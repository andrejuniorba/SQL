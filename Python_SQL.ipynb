{
  "nbformat": 4,
  "nbformat_minor": 0,
  "metadata": {
    "colab": {
      "name": "Python SQL.ipynb",
      "provenance": [],
      "authorship_tag": "ABX9TyMMLxCI7HkyH72ky2dAsnj1",
      "include_colab_link": true
    },
    "kernelspec": {
      "name": "python3",
      "display_name": "Python 3"
    },
    "language_info": {
      "name": "python"
    }
  },
  "cells": [
    {
      "cell_type": "markdown",
      "metadata": {
        "id": "view-in-github",
        "colab_type": "text"
      },
      "source": [
        "<a href=\"https://colab.research.google.com/github/andrejuniorba/SQL/blob/main/Python_SQL.ipynb\" target=\"_parent\"><img src=\"https://colab.research.google.com/assets/colab-badge.svg\" alt=\"Open In Colab\"/></a>"
      ]
    },
    {
      "cell_type": "markdown",
      "source": [
        "# **SQL com Python**\n"
      ],
      "metadata": {
        "id": "y2y9JRWC0yaM"
      }
    },
    {
      "cell_type": "code",
      "source": [
        "#from google.colab import drive\n",
        "#drive.mount('/content/drive')"
      ],
      "metadata": {
        "id": "oL1QpKKz6b2z"
      },
      "execution_count": 100,
      "outputs": []
    },
    {
      "cell_type": "markdown",
      "source": [
        "Import da biblioteca"
      ],
      "metadata": {
        "id": "0DCKhEkc7DJ_"
      }
    },
    {
      "cell_type": "code",
      "source": [
        "import sqlite3"
      ],
      "metadata": {
        "id": "dLMNzYBQ7RT4"
      },
      "execution_count": 101,
      "outputs": []
    },
    {
      "cell_type": "markdown",
      "source": [
        "# Criar um Banco de Dados"
      ],
      "metadata": {
        "id": "CvqWuVVDheQA"
      }
    },
    {
      "cell_type": "code",
      "source": [
        "#Criando\n",
        "conexao = sqlite3.connect('Banco_Dados')"
      ],
      "metadata": {
        "id": "7PAWWJbth4_o"
      },
      "execution_count": 102,
      "outputs": []
    },
    {
      "cell_type": "code",
      "source": [
        "#Apontando (toda vez que for fazer qualquer procedimento no BD vou chamar a variável criada)\n",
        "cursor = conexao.cursor()"
      ],
      "metadata": {
        "id": "7K8gXeikiIYX"
      },
      "execution_count": 103,
      "outputs": []
    },
    {
      "cell_type": "markdown",
      "source": [
        "# Criar uma tabela\n",
        "\n",
        "CREATE TABLE nome (coluna1 datatype, coluna2 datatype, ...)"
      ],
      "metadata": {
        "id": "jBm1qKDQifpS"
      }
    },
    {
      "cell_type": "code",
      "source": [
        "#Criando a tabela \n",
        "cursor.execute(\n",
        "    'CREATE TABLE Minha_Tabela (Data text, Nome text, Idade real)'\n",
        ")\n",
        "\n",
        "#Fazer um commit\n",
        "conexao.commit()"
      ],
      "metadata": {
        "id": "lw6ebHXtkvnr"
      },
      "execution_count": 104,
      "outputs": []
    },
    {
      "cell_type": "markdown",
      "source": [
        "# Inserir valor na tabela\n",
        "\n",
        "INSERT INTO nome VALUES (coluna1, coluna2, ...)"
      ],
      "metadata": {
        "id": "_QtCj33Nm4Rk"
      }
    },
    {
      "cell_type": "code",
      "source": [
        "#Inserindo valores\n",
        "cursor.execute(\n",
        "    'INSERT INTO Minha_Tabela VALUES (\"01/01/2022\", \"André\", \"40\")'\n",
        ")"
      ],
      "metadata": {
        "id": "8inBwQjgp82k",
        "colab": {
          "base_uri": "https://localhost:8080/"
        },
        "outputId": "3d21a916-8180-467a-98e5-1875932e471e"
      },
      "execution_count": 105,
      "outputs": [
        {
          "output_type": "execute_result",
          "data": {
            "text/plain": [
              "<sqlite3.Cursor at 0x7f9aad9a0c70>"
            ]
          },
          "metadata": {},
          "execution_count": 105
        }
      ]
    },
    {
      "cell_type": "code",
      "source": [
        "#Inserindo mais um\n",
        "cursor.execute(\n",
        "    'INSERT INTO Minha_Tabela VALUES (\"05/01/2022\", \"Rosana\", \"37\")'\n",
        ")"
      ],
      "metadata": {
        "id": "HUHZEtkOqr9q",
        "colab": {
          "base_uri": "https://localhost:8080/"
        },
        "outputId": "080c6787-3945-448a-d37d-e6664adde7df"
      },
      "execution_count": 106,
      "outputs": [
        {
          "output_type": "execute_result",
          "data": {
            "text/plain": [
              "<sqlite3.Cursor at 0x7f9aad9a0c70>"
            ]
          },
          "metadata": {},
          "execution_count": 106
        }
      ]
    },
    {
      "cell_type": "code",
      "source": [
        "cursor.execute(\n",
        "    'INSERT INTO Minha_Tabela VALUES (\"06/01/2022\", \"Ana\", \"10\")'\n",
        ")"
      ],
      "metadata": {
        "id": "hg_yTvTe7SIb",
        "colab": {
          "base_uri": "https://localhost:8080/"
        },
        "outputId": "57ad5fb1-1a7d-4ac2-ed07-8800b40d3439"
      },
      "execution_count": 107,
      "outputs": [
        {
          "output_type": "execute_result",
          "data": {
            "text/plain": [
              "<sqlite3.Cursor at 0x7f9aad9a0c70>"
            ]
          },
          "metadata": {},
          "execution_count": 107
        }
      ]
    },
    {
      "cell_type": "markdown",
      "source": [
        "# Selecionar Tabela\n",
        "\n",
        "SELECT*FROM nome \n",
        "\n",
        "SELECT coluna1, coluna2, ..., FROM nome"
      ],
      "metadata": {
        "id": "fA3gq1m0rCJN"
      }
    },
    {
      "cell_type": "code",
      "source": [
        "# Consultar tudo\n",
        "consulta = cursor.execute(\n",
        "    'SELECT*FROM Minha_Tabela'\n",
        ").fetchall()\n",
        "\n",
        "print(consulta)"
      ],
      "metadata": {
        "id": "ZNA7o8CBsYhH",
        "colab": {
          "base_uri": "https://localhost:8080/"
        },
        "outputId": "a0f6ea73-d96c-40a7-fc67-f5effe1d447f"
      },
      "execution_count": 108,
      "outputs": [
        {
          "output_type": "stream",
          "name": "stdout",
          "text": [
            "[('01/01/2022', 'André', 40.0), ('05/01/2022', 'Rosana', 37.0), ('06/01/2022', 'Ana', 10.0)]\n"
          ]
        }
      ]
    },
    {
      "cell_type": "code",
      "source": [
        "# Consulta específica\n",
        "consulta_especifica = cursor.execute(\n",
        "    'SELECT Nome, Idade FROM Minha_Tabela'\n",
        ").fetchall()\n",
        "\n",
        "print(consulta_especifica )"
      ],
      "metadata": {
        "id": "4vqFNHmTwLj5",
        "colab": {
          "base_uri": "https://localhost:8080/"
        },
        "outputId": "00c82041-debc-458e-e0c2-6eb4790a166f"
      },
      "execution_count": 109,
      "outputs": [
        {
          "output_type": "stream",
          "name": "stdout",
          "text": [
            "[('André', 40.0), ('Rosana', 37.0), ('Ana', 10.0)]\n"
          ]
        }
      ]
    },
    {
      "cell_type": "code",
      "source": [
        "for linha in consulta_especifica:\n",
        "  print(linha)"
      ],
      "metadata": {
        "id": "6avrix2PwcSM",
        "colab": {
          "base_uri": "https://localhost:8080/"
        },
        "outputId": "076c870a-c799-4ae9-b38b-85ec43dc5838"
      },
      "execution_count": 110,
      "outputs": [
        {
          "output_type": "stream",
          "name": "stdout",
          "text": [
            "('André', 40.0)\n",
            "('Rosana', 37.0)\n",
            "('Ana', 10.0)\n"
          ]
        }
      ]
    },
    {
      "cell_type": "markdown",
      "source": [
        "# Filtar registros\n",
        "\n",
        "SELECT coluna FROM nome WHERE condição\n",
        "\n",
        "* Igual =\n",
        "\n",
        "* Maior >\n",
        "\n",
        "* Menor <\n",
        "\n",
        "* Maior ou igual >=\n",
        "\n",
        "* Menor ou igual <=\n",
        "\n",
        "* Diferente <>\n",
        "\n",
        "* Entre BETWEEN\n",
        "\n",
        "* Procurar por padrão LIKE\n",
        "\n",
        "* Especificar vários valores possíveis para uma coluna IN"
      ],
      "metadata": {
        "id": "hHuCrmezwuKg"
      }
    },
    {
      "cell_type": "code",
      "source": [
        "filtro_igual = cursor.execute(\n",
        "    'SELECT*FROM Minha_Tabela WHERE Nome = \"Rosana\"'\n",
        ").fetchall()\n",
        "\n",
        "print(filtro_igual)"
      ],
      "metadata": {
        "id": "NyzGuoHG1W4p",
        "colab": {
          "base_uri": "https://localhost:8080/"
        },
        "outputId": "f215a058-e961-4404-b44f-7eaaa6747c52"
      },
      "execution_count": 111,
      "outputs": [
        {
          "output_type": "stream",
          "name": "stdout",
          "text": [
            "[('05/01/2022', 'Rosana', 37.0)]\n"
          ]
        }
      ]
    },
    {
      "cell_type": "code",
      "source": [
        "filtro_maior = cursor.execute(\n",
        "    'SELECT*FROM Minha_Tabela WHERE Idade < 40'\n",
        ").fetchall()\n",
        "\n",
        "print(filtro_maior)"
      ],
      "metadata": {
        "id": "W5mspcwr3BYj",
        "colab": {
          "base_uri": "https://localhost:8080/"
        },
        "outputId": "86f5668b-078e-4fe2-c85e-b4788f967cc5"
      },
      "execution_count": 112,
      "outputs": [
        {
          "output_type": "stream",
          "name": "stdout",
          "text": [
            "[('05/01/2022', 'Rosana', 37.0), ('06/01/2022', 'Ana', 10.0)]\n"
          ]
        }
      ]
    },
    {
      "cell_type": "markdown",
      "source": [
        "**BETWEEN (entre)**"
      ],
      "metadata": {
        "id": "sPATlneA7Fuh"
      }
    },
    {
      "cell_type": "code",
      "source": [
        "filtro_entre = cursor.execute(\n",
        "    'SELECT*FROM Minha_Tabela WHERE Idade BETWEEN 15 AND 38'\n",
        ").fetchall()\n",
        "\n",
        "print(filtro_entre)"
      ],
      "metadata": {
        "id": "bhGwMCD97p18",
        "colab": {
          "base_uri": "https://localhost:8080/"
        },
        "outputId": "450346c1-6e81-4d65-c52d-33dc8b5a48c7"
      },
      "execution_count": 113,
      "outputs": [
        {
          "output_type": "stream",
          "name": "stdout",
          "text": [
            "[('05/01/2022', 'Rosana', 37.0)]\n"
          ]
        }
      ]
    },
    {
      "cell_type": "markdown",
      "source": [
        "**LIKE (procurar padrão)**\n",
        "\n",
        "SELECT*FROM nome WHERE coluna LIKE 'instrução'\n",
        "\n",
        "* % representa zero, um ou vários caracteres\n",
        "\n",
        "* _ representa um único caractere"
      ],
      "metadata": {
        "id": "g00VHamC77pS"
      }
    },
    {
      "cell_type": "code",
      "source": [
        "filtro_like = cursor.execute(\n",
        "    'SELECT*FROM Minha_Tabela WHERE Nome LIKE \"%a\"'\n",
        ").fetchall()\n",
        "\n",
        "print(filtro_like)"
      ],
      "metadata": {
        "id": "uPxkBdyp8TEu",
        "colab": {
          "base_uri": "https://localhost:8080/"
        },
        "outputId": "196838be-cb8c-4db2-a342-665a56e63fcf"
      },
      "execution_count": 114,
      "outputs": [
        {
          "output_type": "stream",
          "name": "stdout",
          "text": [
            "[('05/01/2022', 'Rosana', 37.0), ('06/01/2022', 'Ana', 10.0)]\n"
          ]
        }
      ]
    },
    {
      "cell_type": "code",
      "source": [
        "filtro_like1 = cursor.execute(\n",
        "    'SELECT*FROM Minha_Tabela WHERE Nome LIKE \"%é\"'\n",
        ").fetchall()\n",
        "\n",
        "print(filtro_like1)"
      ],
      "metadata": {
        "id": "B-a5zoqB9dNG",
        "colab": {
          "base_uri": "https://localhost:8080/"
        },
        "outputId": "69286463-960b-4785-e4e5-51805d1c8d02"
      },
      "execution_count": 115,
      "outputs": [
        {
          "output_type": "stream",
          "name": "stdout",
          "text": [
            "[('01/01/2022', 'André', 40.0)]\n"
          ]
        }
      ]
    },
    {
      "cell_type": "code",
      "source": [
        "filtro_like2 = cursor.execute(\n",
        "    'SELECT*FROM Minha_Tabela WHERE Nome LIKE \"r%\"'\n",
        ").fetchall()\n",
        "\n",
        "print(filtro_like2)"
      ],
      "metadata": {
        "id": "a5qanuVD-Ocd",
        "colab": {
          "base_uri": "https://localhost:8080/"
        },
        "outputId": "da5ca45f-088d-4ce4-8a15-1de89fe9cd42"
      },
      "execution_count": 116,
      "outputs": [
        {
          "output_type": "stream",
          "name": "stdout",
          "text": [
            "[('05/01/2022', 'Rosana', 37.0)]\n"
          ]
        }
      ]
    },
    {
      "cell_type": "markdown",
      "source": [
        "**IN (procurar algo muito específico)**\n",
        "\n",
        "SELECT*FROM nome WHERE coluna IN "
      ],
      "metadata": {
        "id": "qM_wzWMRAfct"
      }
    },
    {
      "cell_type": "code",
      "source": [
        "filtro_in = cursor.execute(\n",
        "    'SELECT*FROM Minha_Tabela WHERE Idade IN (10, 37)'\n",
        ").fetchall()\n",
        "\n",
        "print(filtro_in)"
      ],
      "metadata": {
        "id": "6MkIE7n6Ay2Q",
        "colab": {
          "base_uri": "https://localhost:8080/"
        },
        "outputId": "1ef25f61-dda1-41c9-e082-839509fb8efb"
      },
      "execution_count": 117,
      "outputs": [
        {
          "output_type": "stream",
          "name": "stdout",
          "text": [
            "[('05/01/2022', 'Rosana', 37.0), ('06/01/2022', 'Ana', 10.0)]\n"
          ]
        }
      ]
    },
    {
      "cell_type": "code",
      "source": [
        "filtro_in2 = cursor.execute(\n",
        "    'SELECT*FROM Minha_Tabela WHERE Nome IN (\"Ana\")'\n",
        ").fetchall()\n",
        "\n",
        "print(filtro_in2)"
      ],
      "metadata": {
        "id": "cFNJ8dq2BNKJ",
        "colab": {
          "base_uri": "https://localhost:8080/"
        },
        "outputId": "d3112df8-6c29-4560-9168-c3d48039381c"
      },
      "execution_count": 118,
      "outputs": [
        {
          "output_type": "stream",
          "name": "stdout",
          "text": [
            "[('06/01/2022', 'Ana', 10.0)]\n"
          ]
        }
      ]
    },
    {
      "cell_type": "markdown",
      "source": [
        "# AND, OR, NOT\n",
        "\n",
        "* AND as duas condições são verdadeiras\n",
        "\n",
        "* OR uma ou outra condição é verdadeira\n",
        "\n",
        "* NOT condição não é verdadeira"
      ],
      "metadata": {
        "id": "GgKKD7ouBrTx"
      }
    },
    {
      "cell_type": "code",
      "source": [
        "filtro_and = cursor.execute(\n",
        "    'SELECT*FROM Minha_Tabela WHERE Idade = 15 AND Nome = \"Ana\"'\n",
        ").fetchall()\n",
        "\n",
        "print(filtro_and )"
      ],
      "metadata": {
        "id": "y-T3u-6qCTMH",
        "colab": {
          "base_uri": "https://localhost:8080/"
        },
        "outputId": "41f7d6c8-a9fb-40ed-f8a9-493cce64b962"
      },
      "execution_count": 119,
      "outputs": [
        {
          "output_type": "stream",
          "name": "stdout",
          "text": [
            "[]\n"
          ]
        }
      ]
    },
    {
      "cell_type": "code",
      "source": [
        "filtro_or = cursor.execute(\n",
        "    'SELECT*FROM Minha_Tabela WHERE Idade = 15 OR Nome = \"Rosana\"'\n",
        ").fetchall()\n",
        "\n",
        "print(filtro_or)"
      ],
      "metadata": {
        "id": "bG6zbFExCvvz",
        "colab": {
          "base_uri": "https://localhost:8080/"
        },
        "outputId": "589a431b-0fbe-463f-fdaa-0e61e5220407"
      },
      "execution_count": 120,
      "outputs": [
        {
          "output_type": "stream",
          "name": "stdout",
          "text": [
            "[('05/01/2022', 'Rosana', 37.0)]\n"
          ]
        }
      ]
    },
    {
      "cell_type": "code",
      "source": [
        "filtro_not = cursor.execute(\n",
        "    'SELECT*FROM Minha_Tabela WHERE NOT Idade = 10'\n",
        ").fetchall()\n",
        "\n",
        "print(filtro_not)"
      ],
      "metadata": {
        "id": "81Y-EWryC87j",
        "colab": {
          "base_uri": "https://localhost:8080/"
        },
        "outputId": "e72dd4d9-d5dd-497f-d2c4-0ef3f64beb07"
      },
      "execution_count": 121,
      "outputs": [
        {
          "output_type": "stream",
          "name": "stdout",
          "text": [
            "[('01/01/2022', 'André', 40.0), ('05/01/2022', 'Rosana', 37.0)]\n"
          ]
        }
      ]
    },
    {
      "cell_type": "markdown",
      "source": [
        "# ORDER BY\n",
        "\n",
        "SELECT*FROM nome ORDER BY coluna1,coluna2...\n",
        "\n",
        "* Classifica o conjunto de resultados em ordem crescente\n",
        "\n",
        "* Para classificar em ordem decrescente tem que inserir a palavra \"DESC\""
      ],
      "metadata": {
        "id": "H1vNhFu4GHTD"
      }
    },
    {
      "cell_type": "code",
      "source": [
        "filtro_ordem = cursor.execute(\n",
        "    'SELECT*FROM Minha_Tabela ORDER BY Idade'\n",
        ").fetchall()\n",
        "\n",
        "for linha in filtro_ordem:\n",
        "  print(linha)"
      ],
      "metadata": {
        "id": "sdWW2WqeGXrR",
        "colab": {
          "base_uri": "https://localhost:8080/"
        },
        "outputId": "2ba7a1d8-2de7-4150-a5fe-15ba08ad8567"
      },
      "execution_count": 122,
      "outputs": [
        {
          "output_type": "stream",
          "name": "stdout",
          "text": [
            "('06/01/2022', 'Ana', 10.0)\n",
            "('05/01/2022', 'Rosana', 37.0)\n",
            "('01/01/2022', 'André', 40.0)\n"
          ]
        }
      ]
    },
    {
      "cell_type": "code",
      "source": [
        "filtro_ordem = cursor.execute(\n",
        "    'SELECT*FROM Minha_Tabela ORDER BY Idade DESC'\n",
        ").fetchall()\n",
        "\n",
        "for linha in filtro_ordem:\n",
        "  print(linha)"
      ],
      "metadata": {
        "id": "OrHNqzGsG5JE",
        "colab": {
          "base_uri": "https://localhost:8080/"
        },
        "outputId": "d45a593f-83d1-4b55-fb9e-28c73e5fe2d3"
      },
      "execution_count": 123,
      "outputs": [
        {
          "output_type": "stream",
          "name": "stdout",
          "text": [
            "('01/01/2022', 'André', 40.0)\n",
            "('05/01/2022', 'Rosana', 37.0)\n",
            "('06/01/2022', 'Ana', 10.0)\n"
          ]
        }
      ]
    },
    {
      "cell_type": "markdown",
      "source": [
        "# Valores nulos\n",
        "\n"
      ],
      "metadata": {
        "id": "c-XXO7pyJXXY"
      }
    },
    {
      "cell_type": "code",
      "source": [
        "\n",
        "cursor.execute('INSERT INTO Minha_Tabela VALUES (\"Nome1\", null, 30)')\n",
        "cursor.execute('INSERT INTO Minha_Tabela VALUES (\"Nome2\", null, null)')"
      ],
      "metadata": {
        "id": "buRtshAfJiU4",
        "colab": {
          "base_uri": "https://localhost:8080/"
        },
        "outputId": "af7ccce3-3b36-49d1-c3de-73fe526b886c"
      },
      "execution_count": 124,
      "outputs": [
        {
          "output_type": "execute_result",
          "data": {
            "text/plain": [
              "<sqlite3.Cursor at 0x7f9aad9a0c70>"
            ]
          },
          "metadata": {},
          "execution_count": 124
        }
      ]
    },
    {
      "cell_type": "code",
      "source": [
        "#verificar valores nulos\n",
        "valor_nulo = cursor.execute(\n",
        "    'SELECT*FROM Minha_Tabela WHERE Nome IS NULL'\n",
        ").fetchall()\n",
        "\n",
        "for linha in valor_nulo:\n",
        "  print(valor_nulo)"
      ],
      "metadata": {
        "id": "Yjf6TwbRKmSb",
        "colab": {
          "base_uri": "https://localhost:8080/"
        },
        "outputId": "6e5a262d-2e3e-44e8-8cf4-08adc78a02e8"
      },
      "execution_count": 125,
      "outputs": [
        {
          "output_type": "stream",
          "name": "stdout",
          "text": [
            "[('Nome1', None, 30.0), ('Nome2', None, None)]\n",
            "[('Nome1', None, 30.0), ('Nome2', None, None)]\n"
          ]
        }
      ]
    },
    {
      "cell_type": "code",
      "source": [
        "#verificar valores não nulos\n",
        "valor_nao_nulo = cursor.execute(\n",
        "    'SELECT*FROM Minha_Tabela WHERE Nome IS NOT NULL'\n",
        ").fetchall()\n",
        "\n",
        "for linha in valor_nulo:\n",
        "  print(valor_nao_nulo)"
      ],
      "metadata": {
        "id": "X9UMRjciK60U",
        "colab": {
          "base_uri": "https://localhost:8080/"
        },
        "outputId": "804f2be3-5b69-4689-b1e6-6ee571719b41"
      },
      "execution_count": 126,
      "outputs": [
        {
          "output_type": "stream",
          "name": "stdout",
          "text": [
            "[('01/01/2022', 'André', 40.0), ('05/01/2022', 'Rosana', 37.0), ('06/01/2022', 'Ana', 10.0)]\n",
            "[('01/01/2022', 'André', 40.0), ('05/01/2022', 'Rosana', 37.0), ('06/01/2022', 'Ana', 10.0)]\n"
          ]
        }
      ]
    }
  ]
}