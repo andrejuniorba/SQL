{
  "nbformat": 4,
  "nbformat_minor": 0,
  "metadata": {
    "colab": {
      "name": "Python SQL.ipynb",
      "provenance": [],
      "authorship_tag": "ABX9TyM5EsyshSO398PfbwVcTzvV",
      "include_colab_link": true
    },
    "kernelspec": {
      "name": "python3",
      "display_name": "Python 3"
    },
    "language_info": {
      "name": "python"
    }
  },
  "cells": [
    {
      "cell_type": "markdown",
      "metadata": {
        "id": "view-in-github",
        "colab_type": "text"
      },
      "source": [
        "<a href=\"https://colab.research.google.com/github/andrejuniorba/SQL/blob/main/Python_SQL.ipynb\" target=\"_parent\"><img src=\"https://colab.research.google.com/assets/colab-badge.svg\" alt=\"Open In Colab\"/></a>"
      ]
    },
    {
      "cell_type": "markdown",
      "source": [
        "# **SQL com Python**\n"
      ],
      "metadata": {
        "id": "y2y9JRWC0yaM"
      }
    },
    {
      "cell_type": "code",
      "source": [
        "#from google.colab import drive\n",
        "#drive.mount('/content/drive')"
      ],
      "metadata": {
        "id": "oL1QpKKz6b2z"
      },
      "execution_count": 198,
      "outputs": []
    },
    {
      "cell_type": "markdown",
      "source": [
        "# Importante\n",
        "\n",
        "Para criar comentários no SQL:\n",
        "\n",
        "--comentário"
      ],
      "metadata": {
        "id": "OZX9RqKiR3hW"
      }
    },
    {
      "cell_type": "markdown",
      "source": [
        "# Import da biblioteca"
      ],
      "metadata": {
        "id": "0DCKhEkc7DJ_"
      }
    },
    {
      "cell_type": "code",
      "source": [
        "import sqlite3"
      ],
      "metadata": {
        "id": "dLMNzYBQ7RT4"
      },
      "execution_count": 199,
      "outputs": []
    },
    {
      "cell_type": "markdown",
      "source": [
        "# Criar um Banco de Dados"
      ],
      "metadata": {
        "id": "CvqWuVVDheQA"
      }
    },
    {
      "cell_type": "code",
      "source": [
        "#Criando o BD\n",
        "conexao = sqlite3.connect('Banco_Dados')"
      ],
      "metadata": {
        "id": "7PAWWJbth4_o"
      },
      "execution_count": 200,
      "outputs": []
    },
    {
      "cell_type": "code",
      "source": [
        "#Apontando (toda vez que for fazer qualquer procedimento no BD vou chamar a variável criada)\n",
        "cursor = conexao.cursor()"
      ],
      "metadata": {
        "id": "7K8gXeikiIYX"
      },
      "execution_count": 201,
      "outputs": []
    },
    {
      "cell_type": "markdown",
      "source": [
        "# Criar uma tabela\n",
        "\n",
        "CREATE TABLE nome (coluna1 datatype, coluna2 datatype, ...)"
      ],
      "metadata": {
        "id": "jBm1qKDQifpS"
      }
    },
    {
      "cell_type": "code",
      "source": [
        "#Criando a tabela \n",
        "cursor.execute(\n",
        "    '''\n",
        "    \n",
        "    CREATE TABLE Minha_Tabela (Data text, Nome text, Idade real)\n",
        "    '''\n",
        ")\n",
        "\n",
        "#Fazer um commit\n",
        "conexao.commit()"
      ],
      "metadata": {
        "id": "lw6ebHXtkvnr"
      },
      "execution_count": 202,
      "outputs": []
    },
    {
      "cell_type": "markdown",
      "source": [
        "# Inserir valor na tabela\n",
        "\n",
        "INSERT INTO nome VALUES (coluna1, coluna2, ...)"
      ],
      "metadata": {
        "id": "_QtCj33Nm4Rk"
      }
    },
    {
      "cell_type": "code",
      "source": [
        "#Inserindo valores\n",
        "cursor.execute(\n",
        "    'INSERT INTO Minha_Tabela VALUES (\"01/01/2022\", \"André\", \"40\")'\n",
        ")"
      ],
      "metadata": {
        "id": "8inBwQjgp82k",
        "colab": {
          "base_uri": "https://localhost:8080/"
        },
        "outputId": "9592f504-0c8b-4eba-d09a-83529ab59420"
      },
      "execution_count": 203,
      "outputs": [
        {
          "output_type": "execute_result",
          "data": {
            "text/plain": [
              "<sqlite3.Cursor at 0x7f0b7099ea40>"
            ]
          },
          "metadata": {},
          "execution_count": 203
        }
      ]
    },
    {
      "cell_type": "code",
      "source": [
        "#Inserindo mais um\n",
        "cursor.execute(\n",
        "    'INSERT INTO Minha_Tabela VALUES (\"05/01/2022\", \"Rosana\", \"37\")'\n",
        ")"
      ],
      "metadata": {
        "id": "HUHZEtkOqr9q",
        "colab": {
          "base_uri": "https://localhost:8080/"
        },
        "outputId": "c1ff1e4c-e544-4aa5-90c5-ea8c80446281"
      },
      "execution_count": 204,
      "outputs": [
        {
          "output_type": "execute_result",
          "data": {
            "text/plain": [
              "<sqlite3.Cursor at 0x7f0b7099ea40>"
            ]
          },
          "metadata": {},
          "execution_count": 204
        }
      ]
    },
    {
      "cell_type": "code",
      "source": [
        "cursor.execute(\n",
        "    'INSERT INTO Minha_Tabela VALUES (\"06/01/2022\", \"Ana\", \"10\")'\n",
        ")\n",
        "\n",
        "cursor.execute(\n",
        "    'INSERT INTO Minha_Tabela VALUES (\"06/01/2022\", \"Antônia\", \"16\")'\n",
        ")\n",
        "\n",
        "cursor.execute(\n",
        "    'INSERT INTO Minha_Tabela VALUES (\"08/01/2022\", \"Ana\", \"42\")'\n",
        ")\n",
        "\n",
        "cursor.execute(\n",
        "    'INSERT INTO Minha_Tabela VALUES (\"06/01/2022\", \"Ana\", \"25\")'\n",
        ")"
      ],
      "metadata": {
        "id": "hg_yTvTe7SIb",
        "colab": {
          "base_uri": "https://localhost:8080/"
        },
        "outputId": "e71da098-21a6-4a33-f9f5-93c2cae00e01"
      },
      "execution_count": 205,
      "outputs": [
        {
          "output_type": "execute_result",
          "data": {
            "text/plain": [
              "<sqlite3.Cursor at 0x7f0b7099ea40>"
            ]
          },
          "metadata": {},
          "execution_count": 205
        }
      ]
    },
    {
      "cell_type": "markdown",
      "source": [
        "# Selecionar Tabela\n",
        "\n",
        "SELECT*FROM nome \n",
        "\n",
        "SELECT coluna1, coluna2, ..., FROM nome"
      ],
      "metadata": {
        "id": "fA3gq1m0rCJN"
      }
    },
    {
      "cell_type": "code",
      "source": [
        "# Consultar tudo\n",
        "consulta = cursor.execute(\n",
        "    'SELECT*FROM Minha_Tabela'\n",
        ").fetchall()\n",
        "\n",
        "print(consulta)"
      ],
      "metadata": {
        "id": "ZNA7o8CBsYhH",
        "colab": {
          "base_uri": "https://localhost:8080/"
        },
        "outputId": "d06f9748-656a-44ad-efe8-273916131d9d"
      },
      "execution_count": 206,
      "outputs": [
        {
          "output_type": "stream",
          "name": "stdout",
          "text": [
            "[('01/01/2022', 'André', 40.0), ('05/01/2022', 'Rosana', 37.0), ('06/01/2022', 'Ana', 10.0), ('06/01/2022', 'Antônia', 16.0), ('08/01/2022', 'Ana', 42.0), ('06/01/2022', 'Ana', 25.0)]\n"
          ]
        }
      ]
    },
    {
      "cell_type": "code",
      "source": [
        "# Consulta específica\n",
        "consulta_especifica = cursor.execute(\n",
        "    '''\n",
        "    --Consulta específica\n",
        "    SELECT Nome, Idade FROM Minha_Tabela\n",
        "    '''\n",
        ").fetchall()\n",
        "\n",
        "print(consulta_especifica )"
      ],
      "metadata": {
        "id": "4vqFNHmTwLj5",
        "colab": {
          "base_uri": "https://localhost:8080/"
        },
        "outputId": "49734872-9b20-4dc2-aa53-d8247287c1bf"
      },
      "execution_count": 207,
      "outputs": [
        {
          "output_type": "stream",
          "name": "stdout",
          "text": [
            "[('André', 40.0), ('Rosana', 37.0), ('Ana', 10.0), ('Antônia', 16.0), ('Ana', 42.0), ('Ana', 25.0)]\n"
          ]
        }
      ]
    },
    {
      "cell_type": "code",
      "source": [
        "for linha in consulta_especifica:\n",
        "  print(linha)"
      ],
      "metadata": {
        "id": "6avrix2PwcSM",
        "colab": {
          "base_uri": "https://localhost:8080/"
        },
        "outputId": "f05f160e-40e9-4274-fa9a-59ca660ef528"
      },
      "execution_count": 208,
      "outputs": [
        {
          "output_type": "stream",
          "name": "stdout",
          "text": [
            "('André', 40.0)\n",
            "('Rosana', 37.0)\n",
            "('Ana', 10.0)\n",
            "('Antônia', 16.0)\n",
            "('Ana', 42.0)\n",
            "('Ana', 25.0)\n"
          ]
        }
      ]
    },
    {
      "cell_type": "markdown",
      "source": [
        "# Filtar registros\n",
        "\n",
        "SELECT coluna FROM nome WHERE condição\n",
        "\n",
        "* Igual =\n",
        "\n",
        "* Maior >\n",
        "\n",
        "* Menor <\n",
        "\n",
        "* Maior ou igual >=\n",
        "\n",
        "* Menor ou igual <=\n",
        "\n",
        "* Diferente <>\n",
        "\n",
        "* Entre BETWEEN\n",
        "\n",
        "* Procurar por padrão LIKE\n",
        "\n",
        "* Especificar vários valores possíveis para uma coluna IN"
      ],
      "metadata": {
        "id": "hHuCrmezwuKg"
      }
    },
    {
      "cell_type": "code",
      "source": [
        "filtro_igual = cursor.execute(\n",
        "    'SELECT*FROM Minha_Tabela WHERE Nome = \"Rosana\"'\n",
        ").fetchall()\n",
        "\n",
        "print(filtro_igual)"
      ],
      "metadata": {
        "id": "NyzGuoHG1W4p",
        "colab": {
          "base_uri": "https://localhost:8080/"
        },
        "outputId": "80a1cd8d-e866-418b-b6f9-8fed7711fd50"
      },
      "execution_count": 209,
      "outputs": [
        {
          "output_type": "stream",
          "name": "stdout",
          "text": [
            "[('05/01/2022', 'Rosana', 37.0)]\n"
          ]
        }
      ]
    },
    {
      "cell_type": "code",
      "source": [
        "filtro_maior = cursor.execute(\n",
        "    'SELECT*FROM Minha_Tabela WHERE Idade < 40'\n",
        ").fetchall()\n",
        "\n",
        "print(filtro_maior)"
      ],
      "metadata": {
        "id": "W5mspcwr3BYj",
        "colab": {
          "base_uri": "https://localhost:8080/"
        },
        "outputId": "9c619487-87be-4333-9d76-f80477229dec"
      },
      "execution_count": 210,
      "outputs": [
        {
          "output_type": "stream",
          "name": "stdout",
          "text": [
            "[('05/01/2022', 'Rosana', 37.0), ('06/01/2022', 'Ana', 10.0), ('06/01/2022', 'Antônia', 16.0), ('06/01/2022', 'Ana', 25.0)]\n"
          ]
        }
      ]
    },
    {
      "cell_type": "markdown",
      "source": [
        "**BETWEEN (entre)**"
      ],
      "metadata": {
        "id": "sPATlneA7Fuh"
      }
    },
    {
      "cell_type": "code",
      "source": [
        "filtro_entre = cursor.execute(\n",
        "    'SELECT*FROM Minha_Tabela WHERE Idade BETWEEN 15 AND 38'\n",
        ").fetchall()\n",
        "\n",
        "print(filtro_entre)"
      ],
      "metadata": {
        "id": "bhGwMCD97p18",
        "colab": {
          "base_uri": "https://localhost:8080/"
        },
        "outputId": "55cf7d39-66d0-4fe6-df39-06bc357d4ed1"
      },
      "execution_count": 211,
      "outputs": [
        {
          "output_type": "stream",
          "name": "stdout",
          "text": [
            "[('05/01/2022', 'Rosana', 37.0), ('06/01/2022', 'Antônia', 16.0), ('06/01/2022', 'Ana', 25.0)]\n"
          ]
        }
      ]
    },
    {
      "cell_type": "markdown",
      "source": [
        "**LIKE (procurar padrão)**\n",
        "\n",
        "SELECT*FROM nome WHERE coluna LIKE 'instrução'\n",
        "\n",
        "* % representa zero, um ou vários caracteres\n",
        "\n",
        "* _ representa um único caractere"
      ],
      "metadata": {
        "id": "g00VHamC77pS"
      }
    },
    {
      "cell_type": "code",
      "source": [
        "filtro_like = cursor.execute(\n",
        "    'SELECT*FROM Minha_Tabela WHERE Nome LIKE \"%a\"'\n",
        ").fetchall()\n",
        "\n",
        "print(filtro_like)"
      ],
      "metadata": {
        "id": "uPxkBdyp8TEu",
        "colab": {
          "base_uri": "https://localhost:8080/"
        },
        "outputId": "a6afd1b4-0e19-47d5-dc70-da178ccd81bd"
      },
      "execution_count": 212,
      "outputs": [
        {
          "output_type": "stream",
          "name": "stdout",
          "text": [
            "[('05/01/2022', 'Rosana', 37.0), ('06/01/2022', 'Ana', 10.0), ('06/01/2022', 'Antônia', 16.0), ('08/01/2022', 'Ana', 42.0), ('06/01/2022', 'Ana', 25.0)]\n"
          ]
        }
      ]
    },
    {
      "cell_type": "code",
      "source": [
        "filtro_like1 = cursor.execute(\n",
        "    'SELECT*FROM Minha_Tabela WHERE Nome LIKE \"%é\"'\n",
        ").fetchall()\n",
        "\n",
        "print(filtro_like1)"
      ],
      "metadata": {
        "id": "B-a5zoqB9dNG",
        "colab": {
          "base_uri": "https://localhost:8080/"
        },
        "outputId": "39e90fa3-2af5-4355-b23c-806396e7e822"
      },
      "execution_count": 213,
      "outputs": [
        {
          "output_type": "stream",
          "name": "stdout",
          "text": [
            "[('01/01/2022', 'André', 40.0)]\n"
          ]
        }
      ]
    },
    {
      "cell_type": "code",
      "source": [
        "filtro_like2 = cursor.execute(\n",
        "    'SELECT*FROM Minha_Tabela WHERE Nome LIKE \"r%\"'\n",
        ").fetchall()\n",
        "\n",
        "print(filtro_like2)"
      ],
      "metadata": {
        "id": "a5qanuVD-Ocd",
        "colab": {
          "base_uri": "https://localhost:8080/"
        },
        "outputId": "73cad765-e5da-412a-d20e-f0ed74793d6a"
      },
      "execution_count": 214,
      "outputs": [
        {
          "output_type": "stream",
          "name": "stdout",
          "text": [
            "[('05/01/2022', 'Rosana', 37.0)]\n"
          ]
        }
      ]
    },
    {
      "cell_type": "markdown",
      "source": [
        "**IN (procurar algo muito específico)**\n",
        "\n",
        "SELECT*FROM nome WHERE coluna IN "
      ],
      "metadata": {
        "id": "qM_wzWMRAfct"
      }
    },
    {
      "cell_type": "code",
      "source": [
        "filtro_in = cursor.execute(\n",
        "    'SELECT*FROM Minha_Tabela WHERE Idade IN (10, 37)'\n",
        ").fetchall()\n",
        "\n",
        "print(filtro_in)"
      ],
      "metadata": {
        "id": "6MkIE7n6Ay2Q",
        "colab": {
          "base_uri": "https://localhost:8080/"
        },
        "outputId": "c277346e-0aa9-42ed-a169-a81b5f225720"
      },
      "execution_count": 215,
      "outputs": [
        {
          "output_type": "stream",
          "name": "stdout",
          "text": [
            "[('05/01/2022', 'Rosana', 37.0), ('06/01/2022', 'Ana', 10.0)]\n"
          ]
        }
      ]
    },
    {
      "cell_type": "code",
      "source": [
        "filtro_in2 = cursor.execute(\n",
        "    'SELECT*FROM Minha_Tabela WHERE Nome IN (\"Ana\")'\n",
        ").fetchall()\n",
        "\n",
        "print(filtro_in2)"
      ],
      "metadata": {
        "id": "cFNJ8dq2BNKJ",
        "colab": {
          "base_uri": "https://localhost:8080/"
        },
        "outputId": "cd6e40c6-a5e0-4e38-86fa-b8b5b4cb594b"
      },
      "execution_count": 216,
      "outputs": [
        {
          "output_type": "stream",
          "name": "stdout",
          "text": [
            "[('06/01/2022', 'Ana', 10.0), ('08/01/2022', 'Ana', 42.0), ('06/01/2022', 'Ana', 25.0)]\n"
          ]
        }
      ]
    },
    {
      "cell_type": "markdown",
      "source": [
        "# AND, OR, NOT\n",
        "\n",
        "* AND as duas condições são verdadeiras\n",
        "\n",
        "* OR uma ou outra condição é verdadeira\n",
        "\n",
        "* NOT condição não é verdadeira"
      ],
      "metadata": {
        "id": "GgKKD7ouBrTx"
      }
    },
    {
      "cell_type": "code",
      "source": [
        "filtro_and = cursor.execute(\n",
        "    'SELECT*FROM Minha_Tabela WHERE Idade = 15 AND Nome = \"Ana\"'\n",
        ").fetchall()\n",
        "\n",
        "print(filtro_and )"
      ],
      "metadata": {
        "id": "y-T3u-6qCTMH",
        "colab": {
          "base_uri": "https://localhost:8080/"
        },
        "outputId": "f02585cd-aec3-4c7b-cf41-567a2c194934"
      },
      "execution_count": 217,
      "outputs": [
        {
          "output_type": "stream",
          "name": "stdout",
          "text": [
            "[]\n"
          ]
        }
      ]
    },
    {
      "cell_type": "code",
      "source": [
        "filtro_or = cursor.execute(\n",
        "    'SELECT*FROM Minha_Tabela WHERE Idade = 15 OR Nome = \"Rosana\"'\n",
        ").fetchall()\n",
        "\n",
        "print(filtro_or)"
      ],
      "metadata": {
        "id": "bG6zbFExCvvz",
        "colab": {
          "base_uri": "https://localhost:8080/"
        },
        "outputId": "7993b36b-a9ee-4c06-9663-aaa5480c2fd2"
      },
      "execution_count": 218,
      "outputs": [
        {
          "output_type": "stream",
          "name": "stdout",
          "text": [
            "[('05/01/2022', 'Rosana', 37.0)]\n"
          ]
        }
      ]
    },
    {
      "cell_type": "code",
      "source": [
        "filtro_not = cursor.execute(\n",
        "    'SELECT*FROM Minha_Tabela WHERE NOT Idade = 10'\n",
        ").fetchall()\n",
        "\n",
        "print(filtro_not)"
      ],
      "metadata": {
        "id": "81Y-EWryC87j",
        "colab": {
          "base_uri": "https://localhost:8080/"
        },
        "outputId": "ff16545c-e75b-420f-8f39-50078ea7ff1a"
      },
      "execution_count": 219,
      "outputs": [
        {
          "output_type": "stream",
          "name": "stdout",
          "text": [
            "[('01/01/2022', 'André', 40.0), ('05/01/2022', 'Rosana', 37.0), ('06/01/2022', 'Antônia', 16.0), ('08/01/2022', 'Ana', 42.0), ('06/01/2022', 'Ana', 25.0)]\n"
          ]
        }
      ]
    },
    {
      "cell_type": "markdown",
      "source": [
        "# ORDER BY\n",
        "\n",
        "SELECT*FROM nome ORDER BY coluna1,coluna2...\n",
        "\n",
        "* Classifica o conjunto de resultados em ordem crescente\n",
        "\n",
        "* Para classificar em ordem decrescente tem que inserir a palavra \"DESC\""
      ],
      "metadata": {
        "id": "H1vNhFu4GHTD"
      }
    },
    {
      "cell_type": "code",
      "source": [
        "filtro_ordem = cursor.execute(\n",
        "    'SELECT*FROM Minha_Tabela ORDER BY Idade'\n",
        ").fetchall()\n",
        "\n",
        "for linha in filtro_ordem:\n",
        "  print(linha)"
      ],
      "metadata": {
        "id": "sdWW2WqeGXrR",
        "colab": {
          "base_uri": "https://localhost:8080/"
        },
        "outputId": "596e71c2-aa28-402c-a281-03af530cdcb5"
      },
      "execution_count": 220,
      "outputs": [
        {
          "output_type": "stream",
          "name": "stdout",
          "text": [
            "('06/01/2022', 'Ana', 10.0)\n",
            "('06/01/2022', 'Antônia', 16.0)\n",
            "('06/01/2022', 'Ana', 25.0)\n",
            "('05/01/2022', 'Rosana', 37.0)\n",
            "('01/01/2022', 'André', 40.0)\n",
            "('08/01/2022', 'Ana', 42.0)\n"
          ]
        }
      ]
    },
    {
      "cell_type": "code",
      "source": [
        "filtro_ordem = cursor.execute(\n",
        "    'SELECT*FROM Minha_Tabela ORDER BY Idade DESC'\n",
        ").fetchall()\n",
        "\n",
        "for linha in filtro_ordem:\n",
        "  print(linha)"
      ],
      "metadata": {
        "id": "OrHNqzGsG5JE",
        "colab": {
          "base_uri": "https://localhost:8080/"
        },
        "outputId": "6c45a70a-340a-4a79-be16-934f2a893efe"
      },
      "execution_count": 221,
      "outputs": [
        {
          "output_type": "stream",
          "name": "stdout",
          "text": [
            "('08/01/2022', 'Ana', 42.0)\n",
            "('01/01/2022', 'André', 40.0)\n",
            "('05/01/2022', 'Rosana', 37.0)\n",
            "('06/01/2022', 'Ana', 25.0)\n",
            "('06/01/2022', 'Antônia', 16.0)\n",
            "('06/01/2022', 'Ana', 10.0)\n"
          ]
        }
      ]
    },
    {
      "cell_type": "markdown",
      "source": [
        "# Valores nulos\n",
        "\n"
      ],
      "metadata": {
        "id": "c-XXO7pyJXXY"
      }
    },
    {
      "cell_type": "code",
      "source": [
        "\n",
        "cursor.execute('INSERT INTO Minha_Tabela VALUES (\"Nome1\", null, 30)')\n",
        "cursor.execute('INSERT INTO Minha_Tabela VALUES (\"Nome2\", null, null)')"
      ],
      "metadata": {
        "id": "buRtshAfJiU4",
        "colab": {
          "base_uri": "https://localhost:8080/"
        },
        "outputId": "998e63fc-ca89-449d-bb71-cf672d6d29f8"
      },
      "execution_count": 222,
      "outputs": [
        {
          "output_type": "execute_result",
          "data": {
            "text/plain": [
              "<sqlite3.Cursor at 0x7f0b7099ea40>"
            ]
          },
          "metadata": {},
          "execution_count": 222
        }
      ]
    },
    {
      "cell_type": "code",
      "source": [
        "#verificar valores nulos\n",
        "valor_nulo = cursor.execute(\n",
        "    'SELECT*FROM Minha_Tabela WHERE Nome IS NULL'\n",
        ").fetchall()\n",
        "\n",
        "for linha in valor_nulo:\n",
        "  print(valor_nulo)"
      ],
      "metadata": {
        "id": "Yjf6TwbRKmSb",
        "colab": {
          "base_uri": "https://localhost:8080/"
        },
        "outputId": "121414b3-96a4-48c0-9304-c43cd98473fb"
      },
      "execution_count": 223,
      "outputs": [
        {
          "output_type": "stream",
          "name": "stdout",
          "text": [
            "[('Nome1', None, 30.0), ('Nome2', None, None)]\n",
            "[('Nome1', None, 30.0), ('Nome2', None, None)]\n"
          ]
        }
      ]
    },
    {
      "cell_type": "code",
      "source": [
        "#verificar valores não nulos\n",
        "valor_nao_nulo = cursor.execute(\n",
        "    'SELECT*FROM Minha_Tabela WHERE Nome IS NOT NULL'\n",
        ").fetchall()\n",
        "\n",
        "for linha in valor_nulo:\n",
        "  print(valor_nao_nulo)"
      ],
      "metadata": {
        "id": "X9UMRjciK60U",
        "colab": {
          "base_uri": "https://localhost:8080/"
        },
        "outputId": "b74330ab-29b4-406a-9505-7026df94c042"
      },
      "execution_count": 224,
      "outputs": [
        {
          "output_type": "stream",
          "name": "stdout",
          "text": [
            "[('01/01/2022', 'André', 40.0), ('05/01/2022', 'Rosana', 37.0), ('06/01/2022', 'Ana', 10.0), ('06/01/2022', 'Antônia', 16.0), ('08/01/2022', 'Ana', 42.0), ('06/01/2022', 'Ana', 25.0)]\n",
            "[('01/01/2022', 'André', 40.0), ('05/01/2022', 'Rosana', 37.0), ('06/01/2022', 'Ana', 10.0), ('06/01/2022', 'Antônia', 16.0), ('08/01/2022', 'Ana', 42.0), ('06/01/2022', 'Ana', 25.0)]\n"
          ]
        }
      ]
    },
    {
      "cell_type": "markdown",
      "source": [
        "# Update\n",
        "\n",
        "UPDATE nome SET coluna = \"\" WHERE coluna 'condição'\n",
        "\n",
        "* Modificar registro existente em uma tabela."
      ],
      "metadata": {
        "id": "a234ljo_moEA"
      }
    },
    {
      "cell_type": "code",
      "source": [
        "valor_update = cursor.execute(\n",
        "    'UPDATE Minha_Tabela SET Nome = \"Preenchido\" WHERE Nome IS NULL'\n",
        ").fetchall()"
      ],
      "metadata": {
        "id": "y7a5yKidmzQD"
      },
      "execution_count": 225,
      "outputs": []
    },
    {
      "cell_type": "code",
      "source": [
        "tab_atualizada = cursor.execute(\n",
        "    'SELECT*FROM Minha_Tabela'\n",
        ").fetchall()\n",
        "\n",
        "for linha in tab_atualizada:\n",
        "  print(linha)"
      ],
      "metadata": {
        "colab": {
          "base_uri": "https://localhost:8080/"
        },
        "id": "JBYsxzMhn3Bv",
        "outputId": "bd4bace5-49f8-4639-916c-483cb12c102f"
      },
      "execution_count": 226,
      "outputs": [
        {
          "output_type": "stream",
          "name": "stdout",
          "text": [
            "('01/01/2022', 'André', 40.0)\n",
            "('05/01/2022', 'Rosana', 37.0)\n",
            "('06/01/2022', 'Ana', 10.0)\n",
            "('06/01/2022', 'Antônia', 16.0)\n",
            "('08/01/2022', 'Ana', 42.0)\n",
            "('06/01/2022', 'Ana', 25.0)\n",
            "('Nome1', 'Preenchido', 30.0)\n",
            "('Nome2', 'Preenchido', None)\n"
          ]
        }
      ]
    },
    {
      "cell_type": "code",
      "source": [
        "valor_update = cursor.execute(\n",
        "    'UPDATE Minha_Tabela SET Idade = 24 WHERE Idade IS NULL'\n",
        ").fetchall()"
      ],
      "metadata": {
        "id": "NGNsMEFnpXH8"
      },
      "execution_count": 227,
      "outputs": []
    },
    {
      "cell_type": "code",
      "source": [
        "tab_atualizada = cursor.execute(\n",
        "    'SELECT*FROM Minha_Tabela'\n",
        ").fetchall()\n",
        "\n",
        "for linha in tab_atualizada:\n",
        "  print(linha)"
      ],
      "metadata": {
        "colab": {
          "base_uri": "https://localhost:8080/"
        },
        "id": "rj0bWaMNpf5M",
        "outputId": "1e87ca5e-8066-4297-f234-5025461246a8"
      },
      "execution_count": 228,
      "outputs": [
        {
          "output_type": "stream",
          "name": "stdout",
          "text": [
            "('01/01/2022', 'André', 40.0)\n",
            "('05/01/2022', 'Rosana', 37.0)\n",
            "('06/01/2022', 'Ana', 10.0)\n",
            "('06/01/2022', 'Antônia', 16.0)\n",
            "('08/01/2022', 'Ana', 42.0)\n",
            "('06/01/2022', 'Ana', 25.0)\n",
            "('Nome1', 'Preenchido', 30.0)\n",
            "('Nome2', 'Preenchido', 24.0)\n"
          ]
        }
      ]
    },
    {
      "cell_type": "code",
      "source": [
        "valor_update = cursor.execute(\n",
        "    'UPDATE Minha_Tabela SET Data = \"10/06/2022\", Nome = \"Renata\", Idade = 35 WHERE Data = \"Nome1\"'\n",
        ").fetchall()\n",
        "\n",
        "valor_update = cursor.execute(\n",
        "    'UPDATE Minha_Tabela SET Data = \"07/06/2022\", Nome = \"Gilton\", Idade = 50 WHERE Data = \"Nome2\"'\n",
        ").fetchall()"
      ],
      "metadata": {
        "id": "UC0_-M-xp9Wp"
      },
      "execution_count": 229,
      "outputs": []
    },
    {
      "cell_type": "code",
      "source": [
        "tab_atualizada = cursor.execute(\n",
        "    'SELECT*FROM Minha_Tabela'\n",
        ").fetchall()\n",
        "\n",
        "for linha in tab_atualizada:\n",
        "  print(linha)"
      ],
      "metadata": {
        "colab": {
          "base_uri": "https://localhost:8080/"
        },
        "id": "mTT_9sWRrZ9e",
        "outputId": "f8749c0a-4efa-45b2-9e45-4346bb41289c"
      },
      "execution_count": 230,
      "outputs": [
        {
          "output_type": "stream",
          "name": "stdout",
          "text": [
            "('01/01/2022', 'André', 40.0)\n",
            "('05/01/2022', 'Rosana', 37.0)\n",
            "('06/01/2022', 'Ana', 10.0)\n",
            "('06/01/2022', 'Antônia', 16.0)\n",
            "('08/01/2022', 'Ana', 42.0)\n",
            "('06/01/2022', 'Ana', 25.0)\n",
            "('10/06/2022', 'Renata', 35.0)\n",
            "('07/06/2022', 'Gilton', 50.0)\n"
          ]
        }
      ]
    },
    {
      "cell_type": "markdown",
      "source": [
        "# Delete\n",
        "\n",
        "DELETE FROM nome WHERE coluna = \"condição\"\n",
        "\n",
        "* Excluir registro"
      ],
      "metadata": {
        "id": "HTst9bxCtvLe"
      }
    },
    {
      "cell_type": "code",
      "source": [
        "valor_deletado = cursor.execute(\n",
        "    'DELETE FROM Minha_Tabela WHERE Nome = \"André\"'\n",
        ").fetchall()"
      ],
      "metadata": {
        "id": "aweI9YBmt3qp"
      },
      "execution_count": 231,
      "outputs": []
    },
    {
      "cell_type": "code",
      "source": [
        "valor_deletado = cursor.execute(\n",
        "    'SELECT*FROM Minha_Tabela'\n",
        ").fetchall()\n",
        "\n",
        "for linha in valor_deletado:\n",
        "  print(linha)"
      ],
      "metadata": {
        "colab": {
          "base_uri": "https://localhost:8080/"
        },
        "id": "ciNL2_TNvhLT",
        "outputId": "8cf6000c-ec61-4927-a419-2462e93b216f"
      },
      "execution_count": 232,
      "outputs": [
        {
          "output_type": "stream",
          "name": "stdout",
          "text": [
            "('05/01/2022', 'Rosana', 37.0)\n",
            "('06/01/2022', 'Ana', 10.0)\n",
            "('06/01/2022', 'Antônia', 16.0)\n",
            "('08/01/2022', 'Ana', 42.0)\n",
            "('06/01/2022', 'Ana', 25.0)\n",
            "('10/06/2022', 'Renata', 35.0)\n",
            "('07/06/2022', 'Gilton', 50.0)\n"
          ]
        }
      ]
    },
    {
      "cell_type": "markdown",
      "source": [
        "# Select TOP\n",
        "\n",
        "SELECT*FROM nome LIMIT quantidade\n",
        "\n",
        "* Especificar o número de registros a serem retornados\n",
        "\n",
        "* Retornar um grande número de registros pode afetar o desempenho."
      ],
      "metadata": {
        "id": "nZatAzu8wM2M"
      }
    },
    {
      "cell_type": "code",
      "source": [
        "tab_selecionada = cursor.execute(\n",
        "    'SELECT*FROM Minha_Tabela LIMIT 2'\n",
        ").fetchall()\n",
        "\n",
        "for linha in tab_selecionada:\n",
        "  print(linha)"
      ],
      "metadata": {
        "colab": {
          "base_uri": "https://localhost:8080/"
        },
        "id": "jbby3_JAwjVS",
        "outputId": "f5f3ed5a-e1a3-4396-8734-bfeeed0a082f"
      },
      "execution_count": 233,
      "outputs": [
        {
          "output_type": "stream",
          "name": "stdout",
          "text": [
            "('05/01/2022', 'Rosana', 37.0)\n",
            "('06/01/2022', 'Ana', 10.0)\n"
          ]
        }
      ]
    },
    {
      "cell_type": "markdown",
      "source": [
        "# MIN e MAX\n",
        "\n",
        "SELECT MIN (coluna) FROM nome\n",
        "\n",
        "SELECT MAX (coluna) FROM nome\n",
        "\n",
        "* Retornar o valor mínimo ou máximo da coluna"
      ],
      "metadata": {
        "id": "KB6JyrTcxnXL"
      }
    },
    {
      "cell_type": "code",
      "source": [
        "valor_min = cursor.execute(\n",
        "    'SELECT MIN (Idade) FROM Minha_Tabela'\n",
        ").fetchall()\n",
        "\n",
        "for linha in valor_min:\n",
        "  print(linha)"
      ],
      "metadata": {
        "colab": {
          "base_uri": "https://localhost:8080/"
        },
        "id": "pXZ-ByesxzNs",
        "outputId": "29e3c2f8-98e1-4351-a0c4-5909efb3d7e7"
      },
      "execution_count": 234,
      "outputs": [
        {
          "output_type": "stream",
          "name": "stdout",
          "text": [
            "(10.0,)\n"
          ]
        }
      ]
    },
    {
      "cell_type": "code",
      "source": [
        "valor_max = cursor.execute(\n",
        "    'SELECT MAX (Idade) FROM Minha_Tabela'\n",
        ").fetchall()\n",
        "\n",
        "for linha in valor_max:\n",
        "  print(linha)"
      ],
      "metadata": {
        "colab": {
          "base_uri": "https://localhost:8080/"
        },
        "id": "cp-e5MLWyqCh",
        "outputId": "96262db4-e59a-41b7-f9f7-e46ed504350a"
      },
      "execution_count": 235,
      "outputs": [
        {
          "output_type": "stream",
          "name": "stdout",
          "text": [
            "(50.0,)\n"
          ]
        }
      ]
    },
    {
      "cell_type": "markdown",
      "source": [
        "# COUNT, AVG e SUM\n",
        "\n",
        "SELECT *** (Idade) FROM Minha_Tabela\n",
        "\n",
        "* COUNT retorna o número de linhas de acordo ao critério\n",
        "\n",
        "* AVG retorna o valor médio de uma coluna numérica\n",
        "\n",
        "* SUM retorna a soma total de uma coluna numérica"
      ],
      "metadata": {
        "id": "50Taacg-zD0n"
      }
    },
    {
      "cell_type": "code",
      "source": [
        "valor_count = cursor.execute(\n",
        "    'SELECT COUNT (Idade) FROM Minha_Tabela'\n",
        ").fetchall()\n",
        "\n",
        "#for linha in valor_max:\n",
        "print(valor_count)"
      ],
      "metadata": {
        "colab": {
          "base_uri": "https://localhost:8080/"
        },
        "id": "oxt82WegzbTN",
        "outputId": "2993604c-039b-4900-ac11-d312f8361137"
      },
      "execution_count": 236,
      "outputs": [
        {
          "output_type": "stream",
          "name": "stdout",
          "text": [
            "[(7,)]\n"
          ]
        }
      ]
    },
    {
      "cell_type": "code",
      "source": [
        "valor_media = cursor.execute(\n",
        "    'SELECT AVG (Idade) FROM Minha_Tabela'\n",
        ").fetchall()\n",
        "\n",
        "#for linha in valor_max:\n",
        "print(valor_media)"
      ],
      "metadata": {
        "colab": {
          "base_uri": "https://localhost:8080/"
        },
        "id": "_zJpcsSvz_WL",
        "outputId": "1212730e-2aef-47ae-f714-7ba3128c301f"
      },
      "execution_count": 237,
      "outputs": [
        {
          "output_type": "stream",
          "name": "stdout",
          "text": [
            "[(30.714285714285715,)]\n"
          ]
        }
      ]
    },
    {
      "cell_type": "code",
      "source": [
        "valor_sum = cursor.execute(\n",
        "    'SELECT SUM (Idade) FROM Minha_Tabela'\n",
        ").fetchall()\n",
        "\n",
        "#for linha in valor_max:\n",
        "print(valor_sum)"
      ],
      "metadata": {
        "colab": {
          "base_uri": "https://localhost:8080/"
        },
        "id": "soGGTWtr0FOf",
        "outputId": "779ae7ff-33e0-4a21-e78c-65d140cd0e7d"
      },
      "execution_count": 238,
      "outputs": [
        {
          "output_type": "stream",
          "name": "stdout",
          "text": [
            "[(215.0,)]\n"
          ]
        }
      ]
    },
    {
      "cell_type": "markdown",
      "source": [
        "# ALIASES\n",
        "\n",
        "* Fornece um nome temporário a uma tabela ou coluna em uma tabela."
      ],
      "metadata": {
        "id": "2kyCvxHO0cnS"
      }
    },
    {
      "cell_type": "code",
      "source": [
        "consulta = cursor.execute(\n",
        "    'SELECT Idade AS consulta_01 FROM Minha_Tabela'\n",
        ").fetchall()\n",
        "\n",
        "#for linha in valor_max:\n",
        "print(consulta)"
      ],
      "metadata": {
        "colab": {
          "base_uri": "https://localhost:8080/"
        },
        "id": "cQ7eif6I0xvn",
        "outputId": "07908a96-284d-4071-87fd-8151171c6edf"
      },
      "execution_count": 239,
      "outputs": [
        {
          "output_type": "stream",
          "name": "stdout",
          "text": [
            "[(37.0,), (10.0,), (16.0,), (42.0,), (25.0,), (35.0,), (50.0,)]\n"
          ]
        }
      ]
    },
    {
      "cell_type": "markdown",
      "source": [
        "# JOINS\n",
        "\n",
        "![Joins-in-SQL-Inner-Outer-Left-and-Right-Join.jpg](data:image/jpeg;base64,/9j/4AAQSkZJRgABAQEAYABgAAD/4RDSRXhpZgAATU0AKgAAAAgABAE7AAIAAAAEVENQAIdpAAQAAAABAAAISpydAAEAAAAIAAAQwuocAAcAAAgMAAAAPgAAAAAc6gAAAAgAAAAAAAAAAAAAAAAAAAAAAAAAAAAAAAAAAAAAAAAAAAAAAAAAAAAAAAAAAAAAAAAAAAAAAAAAAAAAAAAAAAAAAAAAAAAAAAAAAAAAAAAAAAAAAAAAAAAAAAAAAAAAAAAAAAAAAAAAAAAAAAAAAAAAAAAAAAAAAAAAAAAAAAAAAAAAAAAAAAAAAAAAAAAAAAAAAAAAAAAAAAAAAAAAAAAAAAAAAAAAAAAAAAAAAAAAAAAAAAAAAAAAAAAAAAAAAAAAAAAAAAAAAAAAAAAAAAAAAAAAAAAAAAAAAAAAAAAAAAAAAAAAAAAAAAAAAAAAAAAAAAAAAAAAAAAAAAAAAAAAAAAAAAAAAAAAAAAAAAAAAAAAAAAAAAAAAAAAAAAAAAAAAAAAAAAAAAAAAAAAAAAAAAAAAAAAAAAAAAAAAAAAAAAAAAAAAAAAAAAAAAAAAAAAAAAAAAAAAAAAAAAAAAAAAAAAAAAAAAAAAAAAAAAAAAAAAAAAAAAAAAAAAAAAAAAAAAAAAAAAAAAAAAAAAAAAAAAAAAAAAAAAAAAAAAAAAAAAAAAAAAAAAAAAAAAAAAAAAAAAAAAAAAAAAAAAAAAAAAAAAAAAAAAAAAAAAAAAAAAAAAAAAAAAAAAAAAAAAAAAAAAAAAAAAAAAAAAAAAAAAAAAAAAAAAAAAAAAAAAAAAAAAAAAAAAAAAAAAAAAAAAAAAAAAAAAAAAAAAAAAAAAAAAAAAAAAAAAAAAAAAAAAAAAAAAAAAAAAAAAAAAAAAAAAAAAAAAAAAAAAAAAAAAAAAAAAAAAAAAAAAAAAAAAAAAAAAAAAAAAAAAAAAAAAAAAAAAAAAAAAAAAAAAAAAAAAAAAAAAAAAAAAAAAAAAAAAAAAAAAAAAAAAAAAAAAAAAAAAAAAAAAAAAAAAAAAAAAAAAAAAAAAAAAAAAAAAAAAAAAAAAAAAAAAAAAAAAAAAAAAAAAAAAAAAAAAAAAAAAAAAAAAAAAAAAAAAAAAAAAAAAAAAAAAAAAAAAAAAAAAAAAAAAAAAAAAAAAAAAAAAAAAAAAAAAAAAAAAAAAAAAAAAAAAAAAAAAAAAAAAAAAAAAAAAAAAAAAAAAAAAAAAAAAAAAAAAAAAAAAAAAAAAAAAAAAAAAAAAAAAAAAAAAAAAAAAAAAAAAAAAAAAAAAAAAAAAAAAAAAAAAAAAAAAAAAAAAAAAAAAAAAAAAAAAAAAAAAAAAAAAAAAAAAAAAAAAAAAAAAAAAAAAAAAAAAAAAAAAAAAAAAAAAAAAAAAAAAAAAAAAAAAAAAAAAAAAAAAAAAAAAAAAAAAAAAAAAAAAAAAAAAAAAAAAAAAAAAAAAAAAAAAAAAAAAAAAAAAAAAAAAAAAAAAAAAAAAAAAAAAAAAAAAAAAAAAAAAAAAAAAAAAAAAAAAAAAAAAAAAAAAAAAAAAAAAAAAAAAAAAAAAAAAAAAAAAAAAAAAAAAAAAAAAAAAAAAAAAAAAAAAAAAAAAAAAAAAAAAAAAAAAAAAAAAAAAAAAAAAAAAAAAAAAAAAAAAAAAAAAAAAAAAAAAAAAAAAAAAAAAAAAAAAAAAAAAAAAAAAAAAAAAAAAAAAAAAAAAAAAAAAAAAAAAAAAAAAAAAAAAAAAAAAAAAAAAAAAAAAAAAAAAAAAAAAAAAAAAAAAAAAAAAAAAAAAAAAAAAAAAAAAAAAAAAAAAAAAAAAAAAAAAAAAAAAAAAAAAAAAAAAAAAAAAAAAAAAAAAAAAAAAAAAAAAAAAAAAAAAAAAAAAAAAAAAAAAAAAAAAAAAAAAAAAAAAAAAAAAAAAAAAAAAAAAAAAAAAAAAAAAAAAAAAAAAAAAAAAAAAAAAAAAAAAAAAAAAAAAAAAAAAAAAAAAAAAAAAAAAAAAAAAAAAAAAAAAAAAAAAAAAAAAAAAAAAAAAAAAAAAAAAAAAAAAAAAAAAAAAAAAAAAAAAAAAAAAAAAAAAAAAAAAAAAAAAAAAAAAAAAAAAAAAAAAAAAAAAAAAAAAAAAAAAAAAAAAAAAAAAAAAAAAAAAAAAAAAAAAAAAAAAAAAAAAAAAAAAAAAAAAAAAAAAAAAAAAAAAAAAAAAAAAAAAAAAAAAAAAAAAAAAAAAAAAAAAAAAAAAAAAAAAAAAAAAAAAAAAAAAAAAAAAAAAAAAAAAAAAAAAAAAAAAAAAAAAAAAAAAAAAAAAAAAAAAAAAAAAAAAAAAAAAAAAAAAAAAAAAAAAAAAAAAAAAAAAAAAAAAAAAAAAAAAAAAAAAAAAAAAAAAAAAAAAAAAAAAAAAAAAAAAAAAAAAAAAAAAAAAAAAAAAAAAAAAAAAAAAAAAAAAAAAAAAAAAAAAAAAAAAAAAAAAAAAAAAAAAAAAAAAAAAAAAAAAAAAAAAAAAAAAAAAAAAAAAAAAAAAAAAAAAAAAAAAAAAAAAAAAAAAAAAAAAAAAAAAAAAAAAAAAAAAAAAAAAAAAAAAAAAAAAAAAAAAAAAAAAAAAAAAAAAAAAAAAAAAAAAAAAAAAAAAAAAAAAAAAAAAAAAAAAAAAAAAAAAAAAAAAAAAAAAAAAAAAAAAAAAAAAAAAAAAAAAAAAAAAAAAAAAAAAAAAAAAAAAAAAAAAAAAAAAAAAAAAAAAAAAAAAAAAAAAAAAAAAAAAAAAAAAAAAAAAAAAAAAAAAAAAAAAAAAAAAAAAAAAAAAAAAAAAAAAAAAAAAAAAAAAAAAAAAAAAAAAAAAAAAAAAAAAAAAAAAAAAAAAAAAAAFkAMAAgAAABQAABCYkAQAAgAAABQAABCskpEAAgAAAAMyNQAAkpIAAgAAAAMyNQAA6hwABwAACAwAAAiMAAAAABzqAAAACAAAAAAAAAAAAAAAAAAAAAAAAAAAAAAAAAAAAAAAAAAAAAAAAAAAAAAAAAAAAAAAAAAAAAAAAAAAAAAAAAAAAAAAAAAAAAAAAAAAAAAAAAAAAAAAAAAAAAAAAAAAAAAAAAAAAAAAAAAAAAAAAAAAAAAAAAAAAAAAAAAAAAAAAAAAAAAAAAAAAAAAAAAAAAAAAAAAAAAAAAAAAAAAAAAAAAAAAAAAAAAAAAAAAAAAAAAAAAAAAAAAAAAAAAAAAAAAAAAAAAAAAAAAAAAAAAAAAAAAAAAAAAAAAAAAAAAAAAAAAAAAAAAAAAAAAAAAAAAAAAAAAAAAAAAAAAAAAAAAAAAAAAAAAAAAAAAAAAAAAAAAAAAAAAAAAAAAAAAAAAAAAAAAAAAAAAAAAAAAAAAAAAAAAAAAAAAAAAAAAAAAAAAAAAAAAAAAAAAAAAAAAAAAAAAAAAAAAAAAAAAAAAAAAAAAAAAAAAAAAAAAAAAAAAAAAAAAAAAAAAAAAAAAAAAAAAAAAAAAAAAAAAAAAAAAAAAAAAAAAAAAAAAAAAAAAAAAAAAAAAAAAAAAAAAAAAAAAAAAAAAAAAAAAAAAAAAAAAAAAAAAAAAAAAAAAAAAAAAAAAAAAAAAAAAAAAAAAAAAAAAAAAAAAAAAAAAAAAAAAAAAAAAAAAAAAAAAAAAAAAAAAAAAAAAAAAAAAAAAAAAAAAAAAAAAAAAAAAAAAAAAAAAAAAAAAAAAAAAAAAAAAAAAAAAAAAAAAAAAAAAAAAAAAAAAAAAAAAAAAAAAAAAAAAAAAAAAAAAAAAAAAAAAAAAAAAAAAAAAAAAAAAAAAAAAAAAAAAAAAAAAAAAAAAAAAAAAAAAAAAAAAAAAAAAAAAAAAAAAAAAAAAAAAAAAAAAAAAAAAAAAAAAAAAAAAAAAAAAAAAAAAAAAAAAAAAAAAAAAAAAAAAAAAAAAAAAAAAAAAAAAAAAAAAAAAAAAAAAAAAAAAAAAAAAAAAAAAAAAAAAAAAAAAAAAAAAAAAAAAAAAAAAAAAAAAAAAAAAAAAAAAAAAAAAAAAAAAAAAAAAAAAAAAAAAAAAAAAAAAAAAAAAAAAAAAAAAAAAAAAAAAAAAAAAAAAAAAAAAAAAAAAAAAAAAAAAAAAAAAAAAAAAAAAAAAAAAAAAAAAAAAAAAAAAAAAAAAAAAAAAAAAAAAAAAAAAAAAAAAAAAAAAAAAAAAAAAAAAAAAAAAAAAAAAAAAAAAAAAAAAAAAAAAAAAAAAAAAAAAAAAAAAAAAAAAAAAAAAAAAAAAAAAAAAAAAAAAAAAAAAAAAAAAAAAAAAAAAAAAAAAAAAAAAAAAAAAAAAAAAAAAAAAAAAAAAAAAAAAAAAAAAAAAAAAAAAAAAAAAAAAAAAAAAAAAAAAAAAAAAAAAAAAAAAAAAAAAAAAAAAAAAAAAAAAAAAAAAAAAAAAAAAAAAAAAAAAAAAAAAAAAAAAAAAAAAAAAAAAAAAAAAAAAAAAAAAAAAAAAAAAAAAAAAAAAAAAAAAAAAAAAAAAAAAAAAAAAAAAAAAAAAAAAAAAAAAAAAAAAAAAAAAAAAAAAAAAAAAAAAAAAAAAAAAAAAAAAAAAAAAAAAAAAAAAAAAAAAAAAAAAAAAAAAAAAAAAAAAAAAAAAAAAAAAAAAAAAAAAAAAAAAAAAAAAAAAAAAAAAAAAAAAAAAAAAAAAAAAAAAAAAAAAAAAAAAAAAAAAAAAAAAAAAAAAAAAAAAAAAAAAAAAAAAAAAAAAAAAAAAAAAAAAAAAAAAAAAAAAAAAAAAAAAAAAAAAAAAAAAAAAAAAAAAAAAAAAAAAAAAAAAAAAAAAAAAAAAAAAAAAAAAAAAAAAAAAAAAAAAAAAAAAAAAAAAAAAAAAAAAAAAAAAAAAAAAAAAAAAAAAAAAAAAAAAAAAAAAAAAAAAAAAAAAAAAAAAAAAAAAAAAAAAAAAAAAAAAAAAAAAAAAAAAAAAAAAAAAAAAAAAAAAAAAAAAAAAAAAAAAAAAAAAAAAAAAAAAAAAAAAAAAAAAAAAAAAAAAAAAAAAAAAAAAAAAAAAAAAAAAAAAAAAAAAAAAAAAAAAAAAAAAAAAAAAAAAAAAAAAAAAAAAAAAAAAAAAAAAAAAAAAAAAAAAAAAAAAAAAAAAAAAAAAAAAAAAAAAAAAAAAAAAAAAAAAAAAAAAAAAAAAAAAAAAAAAAAAAAAAAAAAAAAAAAAAAAAAAAAAAAAAAAAAAAAAAAAAAAAAAAAAAAAAAAAAAAAAAAAAAAAAAAAAAAAAAAAAAAAAAAAAAAAAAAAAAAAAAAAAAAAAAAAAAAAAAAAAAAAAAAAAAAAAAAAAAAAAAAAAAAAAAAAAAAAAAAAAAAAAAAAAAAAAAAAAAAAAAAAAAAAAAAAAAAAAAAAAAAAAAAAAAAAAAAAAAAAAAAAAAAAAAAAAAAAAAAAAAAAAAAAAAAAAAAAAAAAAAAAAAAAAAAAAAAAAAAAAAAAAAAAAAAAAAAAAAAAAAAAAAAAAAAAAAAAAAAAAAAAAAAAAAAAAAAAAAAAAAAAAAAAAAAAAAAAAAAAAAAAAAAAAAAAAAAAAAAAAAAAAAAAAAAAAAAAAAAAAAAAAAAAAAAAAAAAAAAAAAAAAAAAAAAAAAAAAAAAAAAAAAAAAAAAAAAAAAAAAAAAAAAAAAAAAAAAAAAAAAAAAAAAAAAAAAAAAAAAAAAAAAAAAAAAAAAAAAAAAAAAAAAAAAAAAAAAAAAAAAAAMjAxOTowNToxOCAxNTo1NjowMQAyMDE5OjA1OjE4IDE1OjU2OjAxAAAAVABDAFAAAAD/4QsWaHR0cDovL25zLmFkb2JlLmNvbS94YXAvMS4wLwA8P3hwYWNrZXQgYmVnaW49J++7vycgaWQ9J1c1TTBNcENlaGlIenJlU3pOVGN6a2M5ZCc/Pg0KPHg6eG1wbWV0YSB4bWxuczp4PSJhZG9iZTpuczptZXRhLyI+PHJkZjpSREYgeG1sbnM6cmRmPSJodHRwOi8vd3d3LnczLm9yZy8xOTk5LzAyLzIyLXJkZi1zeW50YXgtbnMjIj48cmRmOkRlc2NyaXB0aW9uIHJkZjphYm91dD0idXVpZDpmYWY1YmRkNS1iYTNkLTExZGEtYWQzMS1kMzNkNzUxODJmMWIiIHhtbG5zOmRjPSJodHRwOi8vcHVybC5vcmcvZGMvZWxlbWVudHMvMS4xLyIvPjxyZGY6RGVzY3JpcHRpb24gcmRmOmFib3V0PSJ1dWlkOmZhZjViZGQ1LWJhM2QtMTFkYS1hZDMxLWQzM2Q3NTE4MmYxYiIgeG1sbnM6eG1wPSJodHRwOi8vbnMuYWRvYmUuY29tL3hhcC8xLjAvIj48eG1wOkNyZWF0ZURhdGU+MjAxOS0wNS0xOFQxNTo1NjowMS4yNTM8L3htcDpDcmVhdGVEYXRlPjwvcmRmOkRlc2NyaXB0aW9uPjxyZGY6RGVzY3JpcHRpb24gcmRmOmFib3V0PSJ1dWlkOmZhZjViZGQ1LWJhM2QtMTFkYS1hZDMxLWQzM2Q3NTE4MmYxYiIgeG1sbnM6ZGM9Imh0dHA6Ly9wdXJsLm9yZy9kYy9lbGVtZW50cy8xLjEvIj48ZGM6Y3JlYXRvcj48cmRmOlNlcSB4bWxuczpyZGY9Imh0dHA6Ly93d3cudzMub3JnLzE5OTkvMDIvMjItcmRmLXN5bnRheC1ucyMiPjxyZGY6bGk+VENQPC9yZGY6bGk+PC9yZGY6U2VxPg0KCQkJPC9kYzpjcmVhdG9yPjwvcmRmOkRlc2NyaXB0aW9uPjwvcmRmOlJERj48L3g6eG1wbWV0YT4NCiAgICAgICAgICAgICAgICAgICAgICAgICAgICAgICAgICAgICAgICAgICAgICAgICAgICAgICAgICAgICAgICAgICAgICAgICAgICAgICAgICAgICAgICAgICAgICAgICAgICAKICAgICAgICAgICAgICAgICAgICAgICAgICAgICAgICAgICAgICAgICAgICAgICAgICAgICAgICAgICAgICAgICAgICAgICAgICAgICAgICAgICAgICAgICAgICAgICAgICAgIAogICAgICAgICAgICAgICAgICAgICAgICAgICAgICAgICAgICAgICAgICAgICAgICAgICAgICAgICAgICAgICAgICAgICAgICAgICAgICAgICAgICAgICAgICAgICAgICAgICAgCiAgICAgICAgICAgICAgICAgICAgICAgICAgICAgICAgICAgICAgICAgICAgICAgICAgICAgICAgICAgICAgICAgICAgICAgICAgICAgICAgICAgICAgICAgICAgICAgICAgICAKICAgICAgICAgICAgICAgICAgICAgICAgICAgICAgICAgICAgICAgICAgICAgICAgICAgICAgICAgICAgICAgICAgICAgICAgICAgICAgICAgICAgICAgICAgICAgICAgICAgIAogICAgICAgICAgICAgICAgICAgICAgICAgICAgICAgICAgICAgICAgICAgICAgICAgICAgICAgICAgICAgICAgICAgICAgICAgICAgICAgICAgICAgICAgICAgICAgICAgICAgCiAgICAgICAgICAgICAgICAgICAgICAgICAgICAgICAgICAgICAgICAgICAgICAgICAgICAgICAgICAgICAgICAgICAgICAgICAgICAgICAgICAgICAgICAgICAgICAgICAgICAKICAgICAgICAgICAgICAgICAgICAgICAgICAgICAgICAgICAgICAgICAgICAgICAgICAgICAgICAgICAgICAgICAgICAgICAgICAgICAgICAgICAgICAgICAgICAgICAgICAgIAogICAgICAgICAgICAgICAgICAgICAgICAgICAgICAgICAgICAgICAgICAgICAgICAgICAgICAgICAgICAgICAgICAgICAgICAgICAgICAgICAgICAgICAgICAgICAgICAgICAgCiAgICAgICAgICAgICAgICAgICAgICAgICAgICAgICAgICAgICAgICAgICAgICAgICAgICAgICAgICAgICAgICAgICAgICAgICAgICAgICAgICAgICAgICAgICAgICAgICAgICAKICAgICAgICAgICAgICAgICAgICAgICAgICAgICAgICAgICAgICAgICAgICAgICAgICAgICAgICAgICAgICAgICAgICAgICAgICAgICAgICAgICAgICAgICAgICAgICAgICAgIAogICAgICAgICAgICAgICAgICAgICAgICAgICAgICAgICAgICAgICAgICAgICAgICAgICAgICAgICAgICAgICAgICAgICAgICAgICAgICAgICAgICAgICAgICAgICAgICAgICAgCiAgICAgICAgICAgICAgICAgICAgICAgICAgICAgICAgICAgICAgICAgICAgICAgICAgICAgICAgICAgICAgICAgICAgICAgICAgICAgICAgICAgICAgICAgICAgICAgICAgICAKICAgICAgICAgICAgICAgICAgICAgICAgICAgICAgICAgICAgICAgICAgICAgICAgICAgICAgICAgICAgICAgICAgICAgICAgICAgICAgICAgICAgICAgICAgICAgICAgICAgIAogICAgICAgICAgICAgICAgICAgICAgICAgICAgICAgICAgICAgICAgICAgICAgICAgICAgICAgICAgICAgICAgICAgICAgICAgICAgICAgICAgICAgICAgICAgICAgICAgICAgCiAgICAgICAgICAgICAgICAgICAgICAgICAgICAgICAgICAgICAgICAgICAgICAgICAgICAgICAgICAgICAgICAgICAgICAgICAgICAgICAgICAgICAgICAgICAgICAgICAgICAKICAgICAgICAgICAgICAgICAgICAgICAgICAgICAgICAgICAgICAgICAgICAgICAgICAgICAgICAgICAgICAgICAgICAgICAgICAgICAgICAgICAgICAgICAgICAgICAgICAgIAogICAgICAgICAgICAgICAgICAgICAgICAgICAgICAgICAgICAgICAgICAgICAgICAgICAgICAgICAgICAgICAgICAgICAgICAgICAgICAgICAgICAgICAgICAgICAgICAgICAgCiAgICAgICAgICAgICAgICAgICAgICAgICAgICAgICAgICAgICAgICAgICAgICAgICAgICAgICAgICAgICAgICAgICAgICAgICAgICAgICAgICAgICAgICAgICAgICAgICAgICAKICAgICAgICAgICAgICAgICAgICAgICAgICAgICAgICAgICAgICAgICAgICAgICAgICAgICAgICAgICAgICAgICAgICAgICAgICAgICAgICAgICAgICAgICAgICAgICAgICAgIAogICAgICAgICAgICAgICAgICAgICAgICAgICAgPD94cGFja2V0IGVuZD0ndyc/Pv/bAEMABwUFBgUEBwYFBggHBwgKEQsKCQkKFQ8QDBEYFRoZGBUYFxseJyEbHSUdFxgiLiIlKCkrLCsaIC8zLyoyJyorKv/bAEMBBwgICgkKFAsLFCocGBwqKioqKioqKioqKioqKioqKioqKioqKioqKioqKioqKioqKioqKioqKioqKioqKioqKv/AABEIAXEB2gMBIgACEQEDEQH/xAAfAAABBQEBAQEBAQAAAAAAAAAAAQIDBAUGBwgJCgv/xAC1EAACAQMDAgQDBQUEBAAAAX0BAgMABBEFEiExQQYTUWEHInEUMoGRoQgjQrHBFVLR8CQzYnKCCQoWFxgZGiUmJygpKjQ1Njc4OTpDREVGR0hJSlNUVVZXWFlaY2RlZmdoaWpzdHV2d3h5eoOEhYaHiImKkpOUlZaXmJmaoqOkpaanqKmqsrO0tba3uLm6wsPExcbHyMnK0tPU1dbX2Nna4eLj5OXm5+jp6vHy8/T19vf4+fr/xAAfAQADAQEBAQEBAQEBAAAAAAAAAQIDBAUGBwgJCgv/xAC1EQACAQIEBAMEBwUEBAABAncAAQIDEQQFITEGEkFRB2FxEyIygQgUQpGhscEJIzNS8BVictEKFiQ04SXxFxgZGiYnKCkqNTY3ODk6Q0RFRkdISUpTVFVWV1hZWmNkZWZnaGlqc3R1dnd4eXqCg4SFhoeIiYqSk5SVlpeYmZqio6Slpqeoqaqys7S1tre4ubrCw8TFxsfIycrS09TV1tfY2dri4+Tl5ufo6ery8/T19vf4+fr/2gAMAwEAAhEDEQA/APpGiiigAooooAKKKKACiiigAooooAKKKKACiiigAooooAKKKKACiiigAooooAKKKKACiiigAooooAKKKKACiiigAooooAKKKKACiiigAooooAKKKKACiiigAooooAKKKKACiiigAooooAKKKKACiiigAooooAKKKKACiiigAooooAKKKKACiiigAooooAKKKKACikJ965yXx3okEelPcTyRJqt3JZ27PHgeYjMpDf3RlSAT7UAdJRWRqPiSx0ye9hufM32Vn9tlCJn93kjj1PynimReKtLufD9hrNrOZbK/khjgdV5LSuEUEdvmOD6c0AbVFYMPiuK61O4s7PTtQuBa3P2WadIh5aPgE8kjgbh2qu/jnTY5JTNDex2sN2bOS9NufJWUNt5I5AycbsY96AOmoqveXiWNhcXc+fKt4mlfAydqjJ478Csi68XWcIsY7SC5v7rUIBcwWtsgMnlYB3tkgIOQMsRk8UAb9Fc9D400ybSbi+bz4DaXEdrdW0sRWWCV3VVDL6ZcHIyCOQTVix8UabqHiXUdBt5m/tDTgjTxMuMqwBBU9wMjPoTQBs0VS0rVbbWLI3VkWMYlkiO9cHcjFW4+oNXaACiiigAooooAKKKKACiiigAooooAKKKKACiioru5jsrOa6nyI4I2kfAycAZP8qAJaKzH120j8NnXHL/YxbfachPm2Yz09faqa+LIV0e61S706/tLS1tjcs80QG9AMnaATzjtQBv0ViQ+IpZraWYaJqihFDKrRKGkyf4Ru/nTND8VRa/KwtNO1CKJXkjaaeEKiujFWXOeuQRQBvUVRuNWtrXVrPTpSwuLxZGiwvGEALZPbqKw5PH+npFJeLaX0ukwyGOXVI4Q0CkHBPXcVB4LhSvXnigDqqKwtS8XaZpX2z7S8jfY7IX0nlR7sxEkArjqeOlTf8JNpraXpuowz+ba6pLFFbOi53NJ93Pp059KANeigdKKACiiigAooooAKKKKACiiigAooooAKKKKACiiigAooooAKKKKACiiigAooooAKKKKAGn73NeU2Gm2+r2nhrTr9Ga3urrWEkXocF5eQex6EH8a9YpAoHQD8qAPITNqQk8T6frIka/03Qlt2udpC3Sb3McoPqVxkdmBqxrFpceH7nSoYY3fStc1KwmUIOLS7EqM+fRXVc+zA+terbQTnA6Y6UbR6D8qAPN/D95YW3irXku/E4sJjrb7dPaaNPMyseOD8x3f/qrKurW+j0DUtQuLxptGi8QSNeaZ5IXzI/PAzv8AvcNhsdDg164Yoy24xqT6laXaMYwMfSgDnfGms6dpnhXUEv72GCS5s5Ut42cb5mKEAIvVjkgYHrXN6NNH4W8UQy+ImWygv9Es4ILi4+VEkiDb4S3QH5twB68+leitFG5UuisVOVJGcUPGkq7ZUV19GGRQB5Vq0i6s3iXXdPy2mXFxplvDOoOy5eO5TdIvqoztyODg1fuNKvLnWPEGraOD/auk6ss1uvT7RGbeLzISfRlzj0YA16PsUKFCjA6DFLgDoKAOT+Gt0l94LjvIVkSO4urmVFlGGUGZzgj1rrKAABgDFFABRRRQAUUUUAFFFFABRRRQAUUUUAFFFFABWfr4J8NamFBJNpLgD/cNaFFAHnP9v6RffCGWxstStLi7TRTvgjlVpFxHg5Uc8VDeXmnz/DHXIbPxMNYm/sVyYDNG5j/dnnC8/nXpQijU5VFH0FAijX7qKPoKAMvRLG+tIR9u1WW/DIuwSQomzj/Z61m+BONBuww/5it91H/TzJXUUYA6CgDhNbvLbXvG9lp+j3cVxc2tjerceS4YWxZVRd5H3SSenXg1R0rxTo1h8Mo9KuisepWtl9gk0cD/AEh5guzYsfVtx5Bxgg5zXo6xRoxKIqljkkDGaTyozJ5hjXf/AHtoz+dAHkl/Y3Ol6bd2V3n7Ta+FLSKQqc4dXwcH6irer2U/h7xHo2mwxOdH1TWbe7tSoytrOMmWM+it98dgdw716ltB6gflRgHqBQAo6UUUUAFFFFABRRRQAUUUUAFFFFABRRRQAUUUUAFFFFABRRRQAUUUUAFFFFABRSEgj1rm9T8Y2ttqD6Xo9tPrWrIMPaWeMQ+8sh+WMfU59jQB0tRXFzBaRGW6mjhjHVpXCj8zXLjRvFWs861raaTAf+XPR1+bHo07jP8A3yFqa3+HvhqOXzbjTRfT5yZ76Rp3Y+5cmgC9J4v8NxHD6/poPoLpD/WiLxd4cmbEWvaax9PtaZ/nVmPQdHiGItKsUHotsg/pTZfD+jzjbNpFjID1DWyH+lAF6CeG5hEtvKksbdHjYMD+IqSuWm+Hnhx5TNZ2L6ZPnIm06Z7dwf8AgJAqI6Z4u0P5tK1SLXbZetrqaiObH+zOg5P+8p+tAHXUVzmkeL7LUtQ/s28in0nVQMmwvhtdh6o3KyD3Umui3D1oAWiqWraxp+h6e97q15FaW6dXlbGT6Adz7DmucXWfE3iLJ8Paamk2Tfdv9WQ+Y49Utxgge7kfSgDsKzrrxDo1k5S81ext2XqstyikfgTWIPAcF9h/Emq6lrTk5aOecxQ/hFHhf51pWnhDw7Yx7bXQ7CMev2dSfzIzQA0eM/DOcf2/pv8A4FJ/jV6z1vStQfZY6lZ3LHosNwjn9DR/YullcHTbPHp9nX/CqF74L8N6guLrQrBvdYFQ/muDQBu0Zrk/+EIk0/5vDGu6lpZH3YJJPtNv9PLkzgfQg1HJ4k1rw9n/AIS7SxJZqedV0tWkjUeskRy6D3G4D1FAHYUVXsb+01KyivNPuYrm2lXdHLE4ZWHsRVjIoAKKKKACiiigAoozXNeJfHOkeGpBbTO93qDrmOwtF3yt7nso92IFJtJXYXsdJTZJI4YzJM6xovVmOAPxryHUfGPizWCyrPDoNsf+WVqBNOR7yMMA/wC6PxrBk0a1upfN1J7nUpT1kvbh5Tn6E4rhnjqUdtTCVeKPZ5vFXh+3OJtc05D6G6TP86bH4v8ADkrYj17TWPp9rT/GvH49L0+IfutPtE+kK/4Ur6dYyf6ywtW+sC/4Vh/aS/lM/rHke5291b3cfmWk8U6f3onDD8xUteAf2FpqyeZb25tJB0ktJGiYf98kVsWHiLxXohH2PV/7TgX/AJd9VXcx+kq/MD9c1tDH0pb6GirxZ7RRXGeH/iRpmq3UdhqsUmjalJwkF0wKSn/pnIPlb6cH2rss4rujJSV0zZNPYWiq97e21haSXd7cRW9vEu6SWVwqqPcmuXTxLrPiDjwfpYW0bpqupho4m944hh5B7/KD6mqGdhVG81rS9Pk232pWds392adUP5E1gf8ACEy6h83ifXtR1QtjdBFJ9mt/p5ceMj/eJrQsvBXhrT8/ZdBsVJ/iaBXP5tk0AL/wmnhkHH9v6b/4FJ/jVu18Q6NfOEs9Wsbhm6LFcoxP4A08aLpYXb/Ztnj0+zp/hVO78IeHr9Cl3odhIvr9nUH8wM0AbVFcn/wgVvZfN4b1XU9FcHKpBcGSHPvFJuU01tX8T+HxnX9OTWLJet9pKESoPV4CST9UJ+goA66is/SNZ0/XLBL3SbyK6t243xnofQjqCPQ81oZB6UAFFFFABRRRQAUUUUAFFFFABRRRQAUUUUAFFFFAB0pruqoSzAADJJPQetOPSuL1Zn8aa9L4dtnZdGsSP7XnjbBnc8i1Ujtjl/Yhe5oAj+3aj49keHQ7iXTfDqtsl1SI7Zr7HVYD/CnYyd/4fWuq0nR7DQ7BbLSbSO1t1JO1B94nqxPVie5PJq1DClvGkUMaxxxqFREGFUDoAOwqSgAooooAKKKKACiiigDM1rQdO8Qaf9l1a1WdAdyN914m7MjDlW9xXE6n4u1H4fXUWj60w1v7XxpV00qxyE5A23OeABkfvcc9CM12HifxHa+GNAn1O7VpNmEhhX700p4VF9yf8a8eNvNqE11e+ICl3f34xclhlETtCo7Kuce5yTzXNiMRGgtTOdRQ3PUdH8JkaiuteJ511XWOsTFf3FmP7sKHp/vn5j69q6dQRyevevN/h14lmtLxfC2rzNKNhfTLmQ5MkY6wse7L2PdfpXpINbQmqkVJFxkpK6FoooqxhRRRQAU3Bp1FAHIaj4Uu9Ju5dX8ENFa3Tndcaa522t765H/LOT0cfiDWt4d8Q2viGxaS3SS3uLd/Ku7OcYltpO6OP1BHBHIrZrlfE+i3VteL4n8Ox51a0TbPbqcDUIByYm/2h1Rux46E0AdVmiqOkaraa3pVrqWnSeZb3MYkjJGCPUEdiDwR6ir1ABTT2pxOBzXnnxF8UTCUeGNFnaG7nj8y+ukPNrAeMD/bfoPQZPpUTmoRcmJtRV2VvFfj25vLyfR/CUqp5LGO81XG5Yj3SIdGf1PQfWuTs7GCwVhApLyHdLLIxeSZvV2PJNSW9tDZ26W9rGIoYxtVB2/z61JXz2IxM6z7I8+pUcmH0/WiiiuUyCiiigAooooAiubaC8t2t7uJZoX6owyPr7H6Vc074g3fgSBYNbkn1XSHyts24NcwOOiEn76f7R5XvkVTurmKytZbm5bZFEpZj9PT3qhplpJPMdU1SPF1MmI4WGRbxH+DHTJ/iP4V1YetKl719PzNYTcNT1LTPDc2vzQa34wkhvZMCS006Ft1paA8g/8ATV/9s8egFdiuec+teTeBPELeGdWh0G8kP9j30m2wdjn7LMefJz/cb+H0PHpXrK19BTqKpHmR3xkpK6FooorQoKKKKACg9KKKAOX1nwiz3z6z4ZnXStax87hcw3f+zMg+9/vfeHY9qseG/Eq6w09nf2zadrFmALuwdslQejof44z2YfQ4NdARkVzvijw7LqiQ6jpMq2uuaflrO56BvWKT1jboR24I5FAHRA56UVkeG9di8QaMl6kbW8oZorm2f79vMpw6N9D37jB71rA5oAWiiigAooooAKKKKACiiigAooooAKKKKAMTxZrcmh+HJ7m0TzL2Rlt7OM/xzudqD8zn6CpfDWhx+HdCt9PR/NkUF55m+9NKxy7n1JYn9KydUQap8SNGsGO6HTLeXUZFx1kP7qPP/fTkf7tdZigAooooAKKKQnFAC0U3d1p1ABRSbqp6vqCaVol7qEpCpawPMSf9lSaAPK/GOqnxB44kiVs2GhnyYgOj3TD52/4CpCj3JqhVHRopI9Iga4yZ5wbicnqZJDvb9T+lXq+ZxNR1KrZ5tSXNIrahbzT26yWTmO9tnFxaSDqsq8j8D0PqDXsXhfXYvEnhqy1aEbRcxAun9xxwy/gQRXk36V1HwpuzBfa9oxPyJMl7Cv8AdWUfMB7b1b867cvqNSdNm+Hk72PSKKKK9k6wopCcdqQNkZoAdRQOlITigBaD0oooA4/TV/4Rnx7caUPl07XA95aL2iuFx5yD2YEP9d1dhXLfEGExeG49XiB87RrqK+Qj+6rYkH08tnrpkdXVXX7rKCPpQBT13V7fQdBvdUvDiG0haVh64HT8TxXitity6S3upHdqF/Ibi6Y9mbon0UYUfSu3+LN15tlo+jK3y3155sy/3o4hvI+hbYPxrkck9a8jMKj0gjkry+yFFFFeQcgUUUUAFFGKKACiijIHJ6Dk01uMyLsDU9ejsTzbWIWe4Xs8h/1aH6fe/Ktjr1696yfDo8zTHv2+/fzPOT/s5wo/75ArVqpu2iBkF7Zx6hZS2sxKrIOHHVGHKsPcHBr1HwD4hl8Q+FYZb3H9oWrta3gH/PVOCfxGG/GvNa2fh3dmx8e39geItTsluQP+mkRCN/46y/lXoYCo4zdPozow8teU9XopAaWvbO0KKKaGz1GKAHUUgajNAC0EZGKKKAOOv0/4Rnx9a6jF8mn6+wtLtR91bkAmKT6sAUP0WuwFYnjPTH1fwfqNtAD9pWLzrYjqJozvTH/AlFXdD1FNY0Gx1KI/Jd26TD/gSg0AX6KKKACiiigAooooAKKKKACiiigAooooA5Pw/Ibn4jeLJWHFuLO0X2AjMh/9G11lcl4cQwfEPxhE4wZXtLhT6qYdn84zXW0AFITjoM0tNfpQBhQeILuXxfqOkNpkvkWlrDMk6svzl9+Ry3+xgcdQc4GKydb8aEaVNJYw3Ftd2WoWUVxA6K7mOWVAQu0sDuViOD1rQ1bwtJqd9qM0WqTWseo2K2kqRoNylCxV1bqPvnI71RPgLMF2q6kIJLia1mVra0SNYmgcMMKODkjnNAC6x4tkOm3MVlDcadqNpeWcckN0i7vLlnRdwwSCCpYZB49q0ovGOnyajHbCOdYprl7SK6YL5ckykgoPm3dVYZIxkHmqsvg57w3c2oanJPd3M1sxlWIIqRwyrIsarnoSDk9eafpXg+HStUeeJrWSE3EtwiyWaecjOxYgS9SAzNg9ccUAWtKvtQl8TaxY6hJA8VusMlv5MZXar7+GJJyflHPvWd8UpjF8M9XA6zRrB+Duqf1rdt9LFvrl7qIlLG7iijMe3hfL3cg987v0rn/inGX+GmqMORCI5j7BJFY/ypS2A4EjDEDoDikpW5Y/Wkr5N7nlBWr4EkMXxMRV4FzpUgb32SqR/wChmsrtWp4HQyfE+AjpDpcxPtukjA/9BNdmC/jr5mtG/Oet5rD1fxBcab4k0jTItOluU1Dzd8qFf3exQe5Hrz7Vu1katpE17q+k39tcrC9hI5MbpuWVHXaw9Qe4NfQnoFTVPEyQjULJIprW/jsp7i2MyqVl8sckYJ6Erw2Disu38atN4ZhMkdxbajPpJvLeaeALHOyxgsVGexOdpAOD6Ulp4BkhIM+opMRa3Nq03kDzZxKPvyP1Zh+VTJ4Mup7O1ttR1VbiOwsHs7UpAF5ZAhkfnk4GABxyaALMXjWytbG3+2mWWSO1hmvpo0AS38xQQzZI4PXAzgcnAp2r6tq2la1pvz2dxZaherbLAsbCVUZSd4bPOMZPGMVVj8EJBqJnRrK6SaCCG5jvLUSf6tdoZD2yOx471Zj0HVF8XSavNe2txGf3cEUkJ3WsOOVTBxljyWx2A6UAdPRRRQBQ120F/wCHdRs3GVuLWWI/8CQj+tVPCNy974J0W6kO55rCF2J7koKv6vcJZ6LfXMhwkNvJIx9gpNZ3guF7fwJoUMgw0enwKRjoQgoA4L4h3Bm+JNpbn7trpLSD6yS4P/ousitX4gQtF8ToJmHy3GjhV99kxJ/9DFZVfP47+Mzgr/GFFFFcJgUZb6ZNbhsVtWeOSFpDKCPlIIHr05qtqWrmLT9QWEPBdQW5mTdg5AONwwT37VcuLIy30V1HKY2SN4nG3O5Wx0PY5A5qh/wjoaB4pLn71q1ruWMKSCc7ie7V0R9nbU0Vuo++1Zo9OvBGk1tdJatPCZFHzjHUc9vSrDavBEQJAxCMiSyDG1HOODznv6VHc6Q97HN9rut7PbtbxsI8eWG6nHcnApU0dIrtpYzCUkZXdZYA7ZAAO1j06Cj90P3bEonuF177K5jMDWxkUKvzAhgOT+NO1aUwaLeyrwUt3IP/AAE1I1rnVFvN2CITFs9csDnP4VDrUZm0HUI15LW0gH/fJrPRyViNLofpkQg0iziA+5bxj/x0Vaqvp8gl0u0kXkPAh/8AHRViplu2J7hU+hyGD4h+HJFON8s8De6tEWx+aCoKm0ZPN+IHhpByVuZpD7AQsM/mwrowulaJpSvzo9pFYniXX59CXTvs2nzXpu71LZhGVGwNnnkjnjjtW2OlZHiDSZtWtrYWtyLae0u47qNim9SUP3SPQgkV9GeiOl8QQW+tW2nXVvPC102yGZgux32livByDgHkjBx1rn/C/jRrzR9NOrxXCz3sksKXZg2wySqz4TPbhODjBx1qwvgyb/hII9Skv45DHqDXqs8AMpDKR5W88hFzxjtjNM07wZc2lrpun3Wqi40/TrhrmONYQryOSxVWOfuqXzxycDNMA0jxko8P2MmorNeX80ElzKltGoKxq5XeQSBjjGBknsKm8Qa/qFhpMWuaRPY3Ng/kmOBo233AdgPlYHrggjjsaqReA/spspYbi1uZre1e0dby1DxyIZC4IHUEE9utW7zw3qEuvWd5b3VmLKxjVbSxe2ISB+hkAU/exwM8KOnNAHVZ5paavv1p1AAa5j4dqYvBNtbn/l1nuLZfZY5nQD8lrpjXM/D1jJ4Ojn7XF3dTr7q9xIwP5EUAdPRRRQAUUUUAFFFFABRRRQAUUUUAFFFFAHK3T/2Z8ULGZsiLV7F7UnsZYj5iD/vgyflXVVzvjPSrnUfD/naYoOp6dKt7Zj+9InOz/gQyv41p6Jq1vrujWmp2LZguYw4B6qe6n3ByD7igC/RiiigBMClwKKKAE2j0owBS0UAJtHpWb4h0xdZ8NalprdLu2kh/76UgVp0YoA8D0i5a70a0ml4lMQSVe6yL8rA/iDVyrHiLSz4c8b3llt22epk31megDn/Wxj8cN/wKq9fMV6fs6jTPMqR5ZWDuK6T4W2puNe17Vcfu08qwjPqUBd8f8CfH4Vyd/efYLJ51QyycJDGvJlkJwqge5Ir1nwVoB8NeE7PTpSGuQplunH8cznc5/M/pXZl1NuXOb4eOrZv0Yz1oor2zsEwPSjAFLRQAm0elG0UtFABRRRQBy/xAuGHg+4sIyfP1WRNPiAGcmVtrY+ib2/CukijEMCRJ91FCr+ArlN3/AAkfxGXZ82n+HVO49Q95IvT/AIAh/AvXX4oA85+K1t5MmhavjCw3LWsreiSrgf8Aj6pXK4wcHrXrPirQo/Evhi+0qQ7DcRkRyY/1bjlW/BgDXjmn3Mlzaf6VH5V3Cxhuoj/BKpww/Pkexrx8wp6qoceIj1LVFFFeScwUUUUCCiiijQAxSFQ6lW+6wIP40tFO9tRmX4cYjREtpP8AWWcj2zjv8p4/NSDWpWSx/s7xLvP/AB7aoAM9lnUcf99L/KtarqKzuN9wrW8AWpvviNLcAHy9L0/aW7eZMw4+u1P1rFubiK0tZbi5bZFEhdz6ACvRPhpok2leFvteoR+Xf6rIbydT1QMPkT/gKgD867cvp80+fsb0ItyudeOlLgHtRRXunaGBRgUUUAGKMCiigAwKKKRvu+lAGV4q1X+xPCuo6iP9ZBbsYl/vSEYRfxYgfjTvDWmf2N4X03TScm1tY4iT3IUZP51h+IH/AOEg8X6d4eiO62sWXUtRx0wp/cxn3L/Nj0QV169KAFooooAKKKKACiiigAooooAKKKKACiiigAPSuJaT/hBfEkkkmV8O6xPuZsYWwu26k+kch/J/96u2qC9tLe/sZrS8gS4t5kKSRSDKup6g0ASr1p1cPHe33gBltNWM174a6W+okF5LAdkm7lOwk7dG9a7K2miuIVnt5VlikUMkiMGVgehBHWgCaiiigAooooAKKKKAOc8Z+GB4p0E28TiC/t28+yuCP9XKOmf9k8qR6GvKrS5adZY7qE2t5bOYrq3fgwuOv/AT1B7ivcbu8trC0kur24jt7eJd0ksrhVQepJry3XvDtx8Sb463o9ktlZwxiNXu90baygOfLdRysXXDH5jn068mJwyrrzMqlNTF8AaCfEOsReI7pT/Zdkx/s5CP+PiXoZsf3R0X1OT6V6svWsHwz4jsNVQ6els2l6hZIEn0uYBXgA4GAOGT0ZeCPTpXQZrenTjTjyxLjFRVkFFFFaFBRRRQAUUUZoAK5zxTr1xp0UOm6Mi3GuahlLOFukY/imf0RRyfU4A5NJrvilLC8Gk6Nb/2nrkozHZxt8sQ/vzN/wAs0+vJ6AGpPDnhptIkm1DUrk6hrV6B9qvGGAAOkcY/hjHYd+p5NAFrw5okPh3RYdPgZpWXLzTv9+eVjl5G92JJ/StaiigBD/WvL/iJ4ffSNSfxVYRlrSYBdViQfdxwtwB7DhvbB7V6jTJEEiFHUMrAgqwyCPQ1nUgqkXFkyipKzPEgyuoZGDKwBVh0I9RRWl4m8G3XhKSW+0SCW70JiXktIwWksSepQfxR99vVe3FZNvcQ3dus9rIssLjKuhyDXztehKjKzPPqU3BklFFFc5mFFFFABRRRTArahYxajYyW0xKhhlXU4MbDlWB7EGodLvpbkSWl6AmoW2FmQDhx2kX2b9DkVfJCqWYhVUZJJwAPWq1l4Uv/AB/Mk2jyGwtLcMBq5BHnHGDFGOrIe7dPTmuihTlW9z+kaQg56Gn4W0I+MNeVpU3aJpkweZ/4bqdTlYx6qp5Y9M4HrXsiZwc1yfg/WbK1hh8MXOnpoepWabFsM/u5VH/LSF/+Winr/eHcdz1or6CjSjShyo74R5VYWiiitSwooooAKKKQ9DQAprG8Sa/H4f0wSrE11e3D+TZWaH57iU9FHoO5PYAmo/EHii00IxWwjkvtTuci10625lmPr/sqO7nAFVdA8PXa6i2veJZVuNZlTZHHGSYbGM/8s4ge/wDefq2PQAUAWfCehS6Lp8r6hKtxqt9J9pv7gDh5SPur/sKAFA9B7mt6kUYpaACiiigAooooAKKKKACiiigAooooAKKKKACiiigBrqHQqQCDwQRwa5OTwfd6NM9z4IvU03e26TTbhS9nKfZRzET6px/s111FAHIp41k0zEXi7RrvSGHBuY1NxbN9HQEj6MBW/pmuaVrEe7SdStLwYyfImV8fUA8VeYZGKxNQ8GeHNVk33+iWMr/3/JAb8xg0AblFcuvw90OLP2c6lAv92HVLhAPoA/FDfDzQZT/pQ1C6H9241K4kU/UM+DQBran4i0bRVJ1bVLO0IGds0yqx+i5yfwrDbxld6t+78H6HdX+7peXim2tl98sNzfQLWrp3hLQNJbfp2jWVu56usILH8TzWxg0Acpa+DZb+7iv/ABlejWLmJg8NqqbLS3b1WP8AiYf3mz7AV1W0hcLgemO1OooAxdd8L6d4hWJr2N47m35t723fy57c+qOOR9OQe4NZK3Pi7w5hb61XxLYr0ubTEV2o/wBqM/K5/wB0gn0rsKQjIoA52w8eeHLyTyZNRSxue9tfg28gPph8Z/DNdErK6hkYMpGQQcg1WvdNs9RiMeoWcF0hGNs0YYfrWC/w58L799tpgsn/AL1lM8B/8cIoA6imSzRwRNJPIscajLO7AAfia5w+AtJIwbrWcdx/bFz/APHKIvh34WjkEkukRXUgOd927Tn83JoAS68f+H4ZjDYXT6vddrfS0NwxP1X5R+JFVjF4t8S/LKV8L6a33hGyy3sg9M/ci/8AHj9K6m2s7ezi8u0gigj/ALsSBR+lT0AZeieHtO8PWbW+lWwiEjb5ZCS0kz92dzyzH1JrUoooAKKKKACiiigBrA9q4jxB8NLO/uJL/wAPz/2NqDndJ5aboJz/ALcfTP8AtDB+tdzRUyipK0hNJqzPD9Rsdd0AsNf0abylP/H5YAzwkepA+dfxFVbTU7C9JFneQTMOqK4DD6r1H5V7zj5qydT8K6BrP/IV0ayuz6ywKSPxxXBUwEJO8XYwlQi9jyfafQ/lRsb+6fyrvX+FPhBm3R6bLB/swXk0Y/IMBSD4UeEh96xuZPaS/nYfkXrn/s6X8xn9Xfc87ur20s03Xl3Bbj1lkC/zosXv9bcJ4c0m71EnpOVMMC/WRsZ/AGvWdO8EeGdJkD6foVjDIP8AloIAW/M81uKoUAKAAOABW0MvgneTuWsOluedaP8AC03Dpc+Mrpb4qQy6bb5W2U/7WeZD9cD2r0KKJYYljiRUjQAKqjAUdgBUtFehCEYK0UdCikrIy9a8P6b4gshbaparMqtujcEq8TdmRxyp9wawvJ8W+Gvlt2XxPpy9EmcRXsa+m77kv47SfeuxpCOasZzNp4/0CWUW+oXT6RdZwbfVIzbt9AW+U/gTXSQzRXEQkgkSVGGQyMCCPqKjuLSC8iMd5BFPGf4ZUDD8jWBL8PPC0jl4tIitZCc77R2gP5oRQB01IzqilnYKo6knArmh4B0kAAXOsADoBrFzx/4/TV+HPhjfvudN+2t63s8k/wD6GTQBLf8Ajvw5YyeQupR3lyeFtrEG4kJ9MJnH44qkbvxd4j+TT7VfDdi3W5vAJbph/sxA7U+rE/SulstMstNhEWn2dvapjG2GMIP0q1jmgDH0Hwzp/h8yPaxyTXc//HxfXL+ZPOf9pz29hgDsK2aKKACiiigAooooAKKKKACiiigAooooAKKKKACiiigAooooAKKKKACiiigAooooAKKKKACiiigAooooAKKKKACiiigAooooAKKKKACiiigAooooAKKKKACiiigAxRRRQAUUUUAFFFFABRRRQAUUUUAFFFFABRRRQAUUUUAFFFFABRRRQAUUUUAFFFFABRRRQAUUUUAFFFFABRRRQAUUUUAFFFFABRRRQAUUUUAFFFFABRRRQAUUUUAFFFFABRRRQAUUUUAFFFFABRRRQAUUUUAFFFFABRRRQAUUUUAFFFFABRRRQAUUUUAFFFFABRRRQAUUUUAFFFFABRRRQAUUUUAFFFFABRRRQAUUUUAFFFFABRRRQAUUUUAFFFFABRRRQAUUUUAFFFFABRRRQAUUUUAFFFFABRRRQAUUUUAFFFFABRRRQAUUUUAFFFFABRRRQAUUUUAFFFFABRRRQAUUUUAFFFFABRRRQAUUUUAFFFFABRRRQAUUUUAFFFFABRRRQAUUUUAFFFFABRRRQAUUUUAFFFIehoAr3eo2djt+2XUMG8/KJZAu76ZqT7TETGN65kGUG4fOPUetcT4pMy/EHTDbaImsuNIu/wDRnkRMDzIecvx7Y96wtAX7Na+E57Bt7NDqc8UIBC27EA+SAeyn5fwoA9Jutc0qxultr7UrO2nf7sUs6qx+gJzVsTRtI0aurOgBZQwyAemR74NefaLPa6L8KrTxBBpC6zLPai+1GXfGJHfbvkYs3UggjHbGB0qza3Wqn4g67Jo1lbzpLY2Lv9onMZXiXAGAfegDsZ9V0+12/ab62h3MVHmSquWHUcnqKdaahZ36sbG6huQhwxikD4/KuA0y2W9+H/iltVtIGuFvdRJUjeEbcc7SR9Oa63wna29t4U0s20EcReyhL+WgG4+WOTjrQBsCaMu6B1LoAWUHlc9MiqtprOmX9xLb2OoWtzND/rI4pldk+oByK858Y3MtveeMTFI0SSx6XDcSo20xwvI6uc9vlJGe2a2PG+mWOj6LpF3o1pDa31jqFtFp5hUITvcK0fHVWUnI70Adob23GMzxjdJ5Q+ccv/d+vtUnnIJhEXUSEZC55I9cV5Ne6VFrdrDp0zvCJvGN5smjba8UixzMjqfUMAfwrY8P6xcar4606PVUWPVrCxuLW+jHHzhkxIB/ccYYH3x2oA9EooooAKKKKACiiigAooooAKKKKACkZlRCzkKqjJJOABS1leKf+RP1nPA+wT/+i2oAnh1rTLksLbULWYopdgk6ttX1ODwKtNPGiqzOoVyApLAAk9MfWvPI0uD8K7v7RoVvp6/2JxNFKjGQeWP7oyPWtHxA6P4V8MbSG36hYFMfxdDx+AJ+lAHZpNHJu8t1fY21tpB2n0PvRHKkwYxsrBWKkqQcEcEfUGuZ8GDE3iPH/Qcnz/3xHTvApxpOo8f8xi//APSh6AOhu7y3sbdri9njt4UGWklcKq/Unio7fUrK6svtlrdwTWuCfPjlDJx1+YcVy+qxx6l8VNLstTRZLS302W7tYZBlHn8xVZsHgsikY9N5rnvFtvFp2seLrbTUWK3u/DEt1eRRcKJhuVXx2YrkH120AentPGgUu6qHICknG4noB61SHiDRycf2pZZzjH2hevp1rA8VOrWHhbawIbWLPaQevBPH4Uz+ydO/4WrgWFtj+yC3+pXr5w56dfegDpzq+nC6+ym/tftG7b5XnLv3emM5z7UseqWMt19lju4GuB1hEqlx+Gc1xfg2C7bVNXdNMsZbf+3Lom6dv3ow/UDHbtzXMuhl06S3n0mOC2l8St/xPNys0D+eCCFHzAkjZk8fNzQB7G7rHGzuQqqMsScACq93qdlYWour67gtrc4xLNKqKc9OScVR8Vn/AIozW8nH/EvuM5/65tXJ+GIY9S8ZIupRJKdO0KyawjkG4KJA3mSKD3JULn0HvQB3sd9ay2qXUVxE9u4BSZXBRsnAwenWnpcRSSyRxyI7xkB1VgShIzgjtXlWrW8dhe+K9N05Fj05L3SrgwocLDPJcRlwB0GQFY+5qdjNoPjLxB4qtFd4YdRS31SJT962MMeJQPWNjknuu6gD0+KWOZd0Tq65IypyMjg0+uY+HpRvCrPE6yRvfXbK6HKsDO5BB9K6egAooooAKKKKACiiigAooooAKKKKACiiigAooooAKKKKACiiigAooooAKKKKAKj6ZayatFqTIftcMLwJJuPCMVJGOnVF/KqVp4V0mxuYJ7W3ZJLeaaaL94xCNMQZMDOMHHTtWvzS0AcxP8PtDmW6ij+22treFmntLW9kigkLfe/dqQPm7461tWukWdlfXF5bRbJ7iOOKVtx5WMEIMdsbjV2igDOj0LT4rG9s44SIL6SWS4XefnaT75z2zntViKwhg01LGDfFDHEIU2OQyqBgYPXOO9WaKAMbT/Cmk6fZ3tuIZLoagf8AS3vJWnecY2gMzEkgDgDoKgsPBWkafeW1wv2u4azB+ypd3ckyW/bKKxIBxxn04roKM0AZSeG9MjkjdICGjvXv1O9uJnDBm6+jtx05p/8Awj+mjxH/AG8tsF1I2/2ZpwSC0ec4I6Hnv1rRzRzQAtFJmilcBaKM0UwCiiigAooooAKKKKACobu1ivrGe0uV3w3EbRSLnGVYYIyPY1NSUAQw2VvDp8dkkYNvHEIRG3zDYBjBz14rF0/wRo2m3VtNCt1ILPJtIZ7qSWO2yMfu0YkLwSB6DgV0FGaAMNPCGnRalNfW82oQST3H2mWOG+lSN5OMkoG284GRii28IadZ6i93aT6hAXuWuXhjvpRC0jMWYmPdtwSScYxW5k0UAZuseH7DXEg+3LKJbZ/MguIJWilibvtdSCMjgjoaZpnhnTNLgu44YWma9P8ApUtzIZZJ+MYdmySMcY6CtbNGaAOf0zwTo+lXltcQC6lNmCtpHcXUksdsCMfu1YkLxx7DitX+zLX+1v7T8s/a/I+z79x+5u3Yx061booAwYfB+m22pSXttNqEDy3JupIo76VYmkJySU3bcEjkYwasSeGNKl0m50x7cm1uZzcSJ5jDMhcPuBzkfMAeK1c0tAGTrfhuy8QQpBqUl0bccPBFcvGkw9HCkbhx0NJqnhjTdVmtZ5Vmt7i0UpBcWkzQyIh6puUg7eBx0rWzRzQBjQeEtHg0d9NS2YwSTrcSs8jNJLKrhw7uTuY5VeSe2Ku2+k2dtJevFDzfSebcBiWDttC9D2woGKuZozQBR0TRLDw7pMWmaRB5FpCWMce4tt3MWPJ9yav0UUAFFFFABRRRQAUUUUAFFFFABRRRQAUUUUAFFFFABRRRQAUUVgeIfE8ejTw2FnbvqOsXQJttPhYBnA6uxPCIO7H8MmgDZubqGzt5Li7njggjXc8krBVUepJ4Fcv/AMJvLqrFPB+j3OsDp9sc/Z7UH2kYZf8A4CCPei18Hyancx6j43uE1S6U7orJciztT/sofvkf3359AOldaqqqBVACgYAAwBQByn9m+NNR5vtesdKUjmLT7TzT/wB/JD1/4DTx4Mmcf6R4r8QyN3xcxoPyVBXU4ooA5f8A4Qkqcx+J/ESH2vFP80NRnQPFNjk6X4tNwoORFqdmkmfYum0/pXWUUAci3ifX9G/5GXw68luDze6QxnQD1MRw4H0zW7pGuadr1n9q0i9iu4c7WMZ5Q+jKeVPsQDWjXO614PsdQvBqWnyyaRq4Hy39nhWb/ZkXpIvs34Y60AdCKCcGuS0/xVdaffJo/jVIbG9ZSbe+jJFreBRklSfuOByUb8CRXK698QL/AMQM1r4Vmex0wEq+plf3tx/1xB+6v+2fwHes6lSNNXkyZSUVdnbeIfG2ieGWEWpXm+7YZjsrdfNnf6IOfxOBXHXvxJ8RXxYaPpFtpkPabUJDJIffy04H4muatLC2sd5to8PIcySsS0kh9WY8k1YryKmYSekFocsq76Es+s+Krxt114puoj/dsreOFR+YY1X83V8fN4n1wn1+1L/8TT6K5Xiaz+0zH2s+4sWoeJLZgbbxZqeRyBcLFMv45UH9a1bTx94usGBu4tN1mLqQgNtKR7dVrJoqo4ytHrcpVpo77RfiXomq3CWd6ZdHv3IAt79Qm8+iv91vzz7V2CnPWvDZ7eG7t2guokmibrHIoINW9E8Raz4RZVsnl1XSF+9YTPulhHrC56j/AGG/AivRo46M9J6G8K6ejPaaKzdC1zT/ABFpMeo6Tci4t5OM4wyMOqsDyrDuDWlXonSFFFFMAoorH8Q+JNP8L6Yb3VZiAW2RRRjdJM56Ii9zSbtqwNVm2qSSAAMknsK4vV/ijo1nO9royza5dxnDJZYMaH0aU/KPwzXEazq2seLnb+25GstOJ/d6VA/BHrM4++f9kfKPeo4o44IligjWKNBhURcAfgK82tjlHSGpzTrpaI1rrxz4xv2zC2m6PGeirGbmTHuSQuay5L3xDOxNz4s1YknOITHEv4YX+tFFefLF1pdbHO6s2N83Vwfl8T64p9ftSn/2WrEGueLLNs2viiabtsvrWOUH8V2moaKlYqsn8Qe1n3N+x+JuuWTBdd0WK+hH3rjS5PmA9TE/X6A12nh/xfovidW/si+SSZBmS2kGyaP/AHkPI+vSvLKrXVhBdypO2+G5iOYrqBiksR9Qw5/Cuylj5XtUNY4hp+8e8KcrzS15f4c+Id5pc8On+MJBLbyMI4NXVdoBPAWYDhSf744PfFW/E/xFma5m0nwf5c1xGdtxqMg3wW5/uqB99/boO/pXpqtBw576HTzxtc6/XPEuk+G7UXGtX0VqrHEaty8h9FUcsfoK4i++KOp3mV8OaH5UR6XWqP5efcRLlvzxXJxWKLdve3Mkt7fyffvLlt8h9geij2GBVmvNq5g72gc8sQ/sk9x4g8XXx/0nxIbYf3NPtETH/Am3Gqpl1hjl/FGuOe5+0qP0CU+iuJ4qs/tGDqTfUSO71+E5g8WawuOgkeOQfkUrRtvGnjOwIJu9O1WMfwXMBt3P/AkJGfwrPopxxddP4hqrNdTs9N+K+mPIkHiK1n0OZjgST4e3J9pV4H44ruoZUniWWF1kjcZV0OQw9QR1rxFlDqUYBlPVSMg/hTdKudU8LT+d4YnCQZ3S6ZOT9nl/3f8Ank3uOPUV6FHHpu0zohXvoz3Oiue8LeMLDxVZySWu+3urc7bqynGJYG9x3How4NdCOlemmmjpCiiimAUUUUAFFFFABRRRQAUUUUAFFFFABRRTJpEiieSVgiIpZmJ4AHJJoAxfE/iBtFt4YLGEXerXz+TYWpOPMfHLNjoijlj6e5FM8M+Gl0OKe4up2vdXvCHvr9x80rdlX+6i9FUcAe+azvB0Emt31z4wvkYNfL5OmxuP9RaA/KfYufnJ9NvpXYjpQADpRRRQAUUUUAFFFFABSNSmuD+J+uy22n2+gabMYr3VtyvKp5gt1/1jj0JyFHu1TKSirsTdldnJeNtaj8f3M2lplvDdtIVYjrfTKeoPZFI4x94j0rE065mtrr+ytQffKi5tp8Y8+Mcf99L0I/GtGGGO3gjhgQRxRqFRAOFA6Cquq2DX9niBxHdQsJbeT+5IOn4HofY18/VrutLXY8+U+d6l2iqum3y6lp8Vyq+WzDEkZ6o44ZfwINWq5GrOxmwooopCCiiigAooooAbY6je+F9XbWdHRpVfH2+xU8XSD+JR2kHY9+hr2bSdUtNa0m31HTZlmtblBJG47g/19q8c/StbwBq/9g+KW0WVtunauWltQTxFcgZdB7OPm+oPrXrYHEv+HI66FS+jPWaKQUV7B1mZ4g1yz8OaNcanqTlYIVyAoy0jHhUUd2JwAPevHpZr/WtWbW9ex9tcFYLcHKWUZ/5Zr/tHu3UnjpWn4w1c+JfGLwxnOm6JIY4x2lusfO/uEHyj3LH0qjXjY3EO/s4nHWqa8qCiiivKOUKKKKACiiigAooqlq189hp5aBd9zMwit0/vO3T8ByT7Cmld2HYq6hJJq91JpFq22BVAv5gM4U/8sx/tEdfQVHZovhuaHTwMaVK2y1Y/8u7n/lmx9D1B9eD2rR06xXTrBLdG3tktLIRzI5+8x9yaku7SG+s5bW6XdFKu1h3HoR7jgitedfB0Kv8AZ6E2MHvn3orO0a5mkgls75s3lk4ilP8Az0GMo/4jH45rRrKUeV2EFFFFIkKKKKACiiimBA63VtqEOq6PMLbVLUfu5D92VepjkHdD+h5FeteFPE1v4p0Rb2FDBMjGK6tnPzW8o+8p9fUHuCDXllO0jVj4V8UwatnFjeMlrqSg8AE4jl+qk4J9DXpYLEcr9nLY6aNRp2Z7dRSAjHB4pa9s7QooooAKKKKACiiigAooooAKKKKACuW8evJcaPbaJbsyS63dJZFl6rEctKR9I1auprlb91u/ippFqxyLHTri72+jOyxqfy3/AJ0AdPBFHb28cMCLHFGoREUYCgDAAp9IOlLQAUUVSm1iwt9Xt9MmuUS8uY2liiJ5ZVKg/qw+vPpQBdpMis7U9btdO0TUNRV1uVsIHnkjicFiFUnHseKbda3aW+iXupKyzLZ2zXEkUbgsAELYPoeKANMEHpS1TttQt7i3tnMiRNcxrJHEzgN8wz071Autwf8ACSDRmguFnMBmWVoiI3AIBAbuRuHSgDSNeJanfHWvGmtamxzHHN9gt/aOLhsfVy35CvZ765WzsJ7p/uwRNIfoAT/SvBtAVh4fsmkOZJI/Nc+rN8xP5mvOx8+Wnbuc+IdomgOBR9ODRRXhHCZNoPsfiW9tR8sV5GLuP2cfK4/ka1qytV/dazotx/03eA+4df8AEVq1pLWzKl0YUVFcXMNqitcSLGrOEUsepPSpAys23cuSM4zzj1qLOy0FZi0VXsLyO/gDx/IWd0CsRk7WKn8MjNFlepe2YuU/doXZPnI6g4PPvinyy7BZosUVVvL+OxG6eOYxgbmkSPKoPUmrQIPTB9x3pWaVw1CqWrJN/ZzXFmdt3aMt1bt6SIdw/PGKu0AZYA9DwacZcslJAnZ3PY9I1GLV9Fs9Rt/9VdwJMo9AwBx+tUvFms/8I94S1PVVGXtrdmjHq54Qf99EVi/Ci4Mvw/trduTZTzW2T/syHH6EVV+LVwP7A03T8n/T9SiRh/eVcuR/46K+ocvc5vI9O/u3OD0y0NhpsFu53SKu6VieXc8sfrkmrVKTkkmkr5eT5pNs8x6sKKKhubuC0EZuZVjEjiNSe5NJJvYRNRSK6GQIHXfjOM849cVW06+j1G2jlj+QybsRlgWGCR0p8rtcdmWqKq2V/FeWS3JxCrOyAOw6qxX+lOub2O1nghkVybhxGrBcqCemTRyu9rBYsVlH/TfFYB5i02DIHYyyd/wUfrWr14HSsrQcSf2ldHkz38gz/sphR/KnF2TkNbGrRR2FFQSZV7/ofiKxuxwl2DaTD3xujP5gj8a1ayvEw26FJOPvW0kc6n/dcH+Wa1jgk46VpLWKZXS4lFMmmjt4HmmYJHGpZmPYChJo5I0dJEKyDKHcPm+lTyt7CsPoqvFeJLeXNv8Ada2ZFJYjDFhkAUQXiT3V3AAwNq6q5PQ5GePajlfYLMsUVDPciCNXWKWfd0ECbyR6/SltriK6to57dt8UgypAxRZ2uFiWo7m2jvLWW2nG6KZDG49jwako75pJ2dw21PRvhzq0ur+BrJrxt93alrS4b1eIlc/iAD+NdVXnHwqmMd74jsR0W5iulHp5kYB/VCfxr0evqKUuaCZ6cXeKYUUUVqUFFFFABRRRQAUUUUAFFFFABXIrx8Z58/xaBHt98XD5/mK66uW1jFj8RvD18wAW8gudPZv9ohZUH/kJ/wA6AOpHSikHSloAK5fWbCT/AITfR9Ri0oXix21xCZginyXJjaMsTyB8rcjOM+9dRTdvNAHljaHrt7Dqc0mkvbXN9oNzbypHFFFH57Z2oNpy3JOGb9M1buNAubuO5/sjQJNL2aFcWkynYpupWTCR4BO7BGdx9fc16QFPrRtoA81PhjULjU5odQjvY45xatbz28EUhgCRRqyh2O6Mh1Y8cYORySK7G4s7h/Gun3axMbeKznR5OyszRkD17H8q2dvOSfypQMUAZnidWfwjrCp95rGcD6+Wa8Y0kg6LYlen2ePH/fIr3e4iWe3khkGUkUow9iMV4HoaPBo8VrLxLZs9tIPRo2KH+VeZmMbwTObEL3TQooorxDiMrXOZNJHf+0Y8fkc1q1lah+/8RaRbjkRGS5b22rtH6mtWtJaRSKexm65b/aLGI+R54iuIpCgXcdobnAPtVS6S5m1SJ47V4jFdx7CkQ+aLHLFuvtt7Vu/zoycYzTjU5Vaw1KxzdrYyLDDElnLDeC/ab7QRwqeYSfm9x2psVndR21t9oicQKZwyeQJNrM+VO30255rpqP8A9VV7Z9g5zDumeOyt9LeG7mgaIefOISSy5+5x0J7+grbXBUbRgY4BGMfhTqSs5SutBOVwpR94fWkpGkEQMjHCopY/Qc1Fr6C3Z23wj/5FW/PY6rckf99CqHxbBF74VbHyjUJAfqYWxW58L7NrT4d6a0i7ZLoPdP7+Y5YH8iKqfFm33eDo78DnTb2G5Y9wu7a36NX08ot0XHyPRa9yxxFFKwwxHvSV8yeaH0rP1i3M8NrItv8AaBBcpK8YUE7RnOAetaFH+fpTi3F3Q07GJNFeS6xby/ZmQRXinKIoDRbSMlupPPSq+n6dLFa2EP2JoLmC5MstyQMBNzE89TkHGK6MUVq6r7Fc5zMGm3kUUH2mOXytkyGNIlk2FpSc4b1U9RWpPZyC10uGLzJfIuImdnPzbQMZNaVFKVVsXNcVeXHuevrzWR4a/wCQRID1F3Pn/vs1rZxz3rK0UeTeatZnjyrwyKP9mQBs/wA6hfBJAtmatFFFSSZniUj/AIRfUf8Arg3+fzrST/VqP9kfyrK8R/vNKS0X715cRQ49i2T+gNax61b+BfMp7FbU4DdaVdQKgdpIWVVPc44rEvoprjS1ggsZIVFp+7IgG/ze68/c6Zz3zXSUfTiiNTlVgUrHOT2bPPqrz2Es0t1HEsDhejiPBOc/KQe9Eljf77okO4NxA8hCbvOVY8MQP4hu7V0f0o4q1WfYfOYolm07TttqlzM9zKdpFvgQZ6nYOQOMgetaOnRxQ6dBHbpIkSrhRKu1vckepPNWQaKiU7qwm7hRRRWZPQ6L4YZ/4SzxGewtrMfj+9/xr06vO/hRbl49f1Ejie/ECN6rEiqf/Ht1eiV9RQVqUUenTVooKKKK2LCiiigAooooAKKKKACiiigArnPHNhcXnhmSfTk33+nSJfWq4+9JE27b/wACAK/jXR0h60AVNK1S21jSbXUbFt9vdRLLGfYjPPv2q5XGaQf+ER8Uy6DP8mlapI9xpchPyxynLS2/tzl1HcFh2rsx0oAKKKKACiiigAooooAQ1414n086J8QL+3Axb6qv263/AN8YWVfz2t+Jr2Y1ynj/AMMy+ItAVtOwNVsH+0WTnjLAcoT6MMr+NYYil7Wm4kVI80bHnVAGTUFleR39qs8SsnJV424aJhwyEdiDkVU1i6lCx6dYti9u8hGH/LKP+KQ/QcD3NfN8j5uVnm8rvYj0s/bdUv8AU+seRa25PdEPzMPYtn8q1vpUVrbRWVpFbWq7YYVCIPYdKlonJOWg2FFFFQSFFFFABRRRQMKqahbzaiLfR7M/6TqkwtUI/hU8yN9AoJq2SFVmYhVUEsxOAo9a6X4Z6K97dS+LLyMrHIhg0xHGCIc/NLjtvIGPYD1rrwtF1amuyNaUOaR6La20VpZw21uuyGGNY419FAwB+QqtrWlw63ol7plz/qruBoWPpkYz+HWry9KCK+isegeCaY832H7PfDbeWbtbXK+kiHafz4P0NXK3PiNo39ia4viW3XFhebIdRwOIpBxHMfbojf8AAT2rDPFfOYmi6VR9jzqsOWQUUUVymYUUUUCCiiigArKusWHiO1vDxDeJ9kmPo4OYyf1FatV9Qso9Q0+W1mJVZB8rjqjDow9wcVcXZ69SkWPrRVDSb6S6t3hvAEvrU+XcJ6nsw9mHIqTUtQGnWZlC+bKx8uCFeskh6Af19AKOV81hW1Krn7f4oRBzDpkZdz286QYA/Bc/nWrVPSrA6fY+XK/mTyMZbiX+/I3X8B0/CrlE2m7IG9bBRRRUCCiiigAooooAKr6he/2fp811t3tGP3aDrI5OFUfViKs4z05PpV7wZov/AAk/ihb2Vd2k6NLncfu3F0OgHqqDk/7RHpXRh6LqzS6GlOLmz0PwXoR8O+DtP02XBnSLfcH+9Kx3Of8Avomt6kHNLX0qVlY9LYKKKKYBRRRQAUUUUAFFFFABRRRQAUUUUAZmvaHZeINJlsNQVvLfDLIjbXhdTlZFPZlPINY+h+Ibuz1CPw54qZY9Vwfst3jbFqKD+JfR8feT8RkV1RAPWs/WtD07X9Oex1a3WeEkMvJDRsOjKw5Vh2I5oA0RRXGLeeI/CH7vUY5vEejr927gQG8gX0kjH+sA/vLz6iuh0fxBpev25m0e+hu0X74RvnQ+jKeVPsRQBpUUUUAFFFBoAMZprDpUF7fW+n2j3N9cQ20CDLSzOEUfUmuWfxVqPiTdB4Js90JOG1m+Qpbp7xrw0p+mF96AOW+JOlJo2sR6r4fj+06lqBPn6NFy93gf65QPulR94ngj3xnltCgjkt21Bp1u7u75mmUYC4/5ZgHkBemOuete0eH/AAvaaG8100st/qd1g3OoXJBll9AOyoOyjAH61geKfh1Hf3kuq+G5007U5OZo2XNvdn1dR0b/AGxz65rhxOFVRXhozCpT5tjis5oqtc3U2lXYs/EdpJpNyeFMxzDL7pKPlP0ODVnB4PZuh9fpXhzpypu0kcUoyjuFFFFZkhRRRg54pgFBIAJJAAGSScYFVJtRhjuxZwrLeXzcJZ2q+ZKT7gdPqcV1Oh/De91eRLrxntgtAQyaRBJuD/8AXZx97/dHHrmumjhalV9kawpSkZPhvw3N44vEkmVo/DcLZkk6HUGB+4v/AEyB6t/F0HFeyxRJFGscahEUBVVRgADoBSRQxwxJFDGsccYCqijAUDoAPSpAMV79KlGlHlR3xioqyADFGKKK1KIbqzt720mtbuJZoJkKSRuMq6kYIIrxjXdCuPBF8La4Ly6HK22yvWOfIPaGU9v9lu/Q817bUF3Z299aS2t5BHPbzKVkikXcrg9iDWNajGrG0iJwU1Zni3fHeitjWvh7qmglp/C+7U9OGSdNmf8AfQDr+6c/eH+y3I7GudttRtrqdoFZorpDh7SdDHMn1U8n6jivAq4adJ6q6OGdOUWWqKOnB7GiuYyCiiigAoHHSkPyqWYhVHVicAVBYSXmvXBtvC9k2pyg4e4zstoj/tSd/ouTWkKUqjtFFRjKT0KGuILTytTtXEd9HiKNMZ+1gn/U4HJJPTHQ03Sllv8AUJr7VI2t763Ywiwk+9Yg9dw/vH16Y6d69W8J/D+20S5XU9WnGp6xjiZlxHb56iJf4f8AePJ/SrHizwPZ+JnW7ilbT9ViXbDfQgEkf3HXo6+x6diK9ZYKXs9/eOr2Pu+Z51RUepxan4al8rxRZG3jzhNQtwXtpPx6ofZvzp0bpNEJYXWSNhlXRgQfoRXlTpTpv3kc0oSjuOooorIgKKKKACj6DNVrzULWwKrdTBZH/wBXEoLSOfRUHJra0bwTrniQrJqol0LSm5MWf9LuF9OOIh/499K6KOGqVXotDSNOUjM0/Tr7xVqj6VojmKGJtt/qQ+7bL/dT+9KfyXqa9k0jSLLRNJt9O02EQW1umyNB/MnuT1J7mjStJsdG0yGw0u1jtbWEYjijGAPf3J9augYGB0r36NGNGNlud8IKCshQMDAooorcsKKKKACiiigAooooAKKKKACiiigAooooAKKKKAE2gdqwtW8HaJrN19qurMQ3o+7eWrmGYe+9SD+db1FAHKL4f8S6fgaR4reeNTxDq1qs/wCG9Sjn6kmnrP46hbbJZ6Bdjs63M0GfwKP/ADrqKKAOYa58cvwmmaDF/tNfTPj8PKFMOl+Mb7AvfEllp6fxLpthlv8AvqVmH/jtdVRQBzFp4D0ZLpLvU/tGs3i8rPqcxn2/7qn5V/ACumCgKAAAB0HpS0UAGKMCiigCC8srXULV7a+t4rmBxho5UDKfwNcVe/CfRmZn0O7vdEcnOy1k3Rf9+3yo/DFd5RUyjGXxITSe55ZP8N/E0Gfsms6beL2FxavEf++lYj9Kr/8ACC+Mx/yy0I+4u5h/7Tr1qiud4Sg94mfsoPoeUxfD3xbN/r77RrMesccs5/UrWna/CeCTB13XNQvx3hhItoz7YT5iPqTXolIOtVHD0o7RKVOC6Gdovh7SPD9t5Gi6fb2cZ6+UmC31PU/jWjgelLRXQWFFFFABRRRQAUUUUAGKydc8L6L4ihCa1psF2VHyu64dfow5Fa1FJpPcDzq6+FAiz/YfiG+tV/hhu1W5Qfi2G/8AHqzJfh94vibEN3ot2P7zLLB+g3V6xSVhLD0pboh04PdHkv8AwgvjM8eXoY9/tUp/9p1Zg+GniO4x9u12wtFPVbS0Z2H/AAJ2x+leo0VMcLRW0RKlBdDh7D4U6DFIsmsSXetyDkfbpMxg+0agL+ldrBbw2tusFtDHDEgwscahVA9gKkFFdEYqKslYtJLYMCjFFFUMa8UckbJIiujDDKwyCPcVxupfC3w7eStcafHPo1yxyZNOk8sE+6cqfyrtKKTipboTSe55fP8ADLXoM/2f4htblB0W9s8N+LIwH/jtVP8AhBPGikjZobj+99plX9Nhr1qiuZ4Wi/smbpQfQ8oj+H/jCU4ln0S1H95WllI/DC1o23wquJiDrPiW6kX+KKwhW3U/8C5b9a9GpRVRw9KL0iNU4roYeg+DdA8OZfSdNiimb71w/wA8rH3dsmtzFFFbpJbGmwYooopgFFFFABRRRQAUUUUAFFFFABRRRQAUUUUAFFFFABRRRQAUUUUAFFFFABRRRQAUUUUAFFFFABRRRQAUUUUAFFFFABRRRQAUUUUAFFFFABRRRQAUUUUAFFFFABRRRQAUUUUAFFFFABRRRQAUUUUAFFFFABRRRQAUUUUAFFFFABRRRQAUUUUAFFFFABRRRQAUUUUAFFFFABRRRQAUUUUAFFFFABRRRQAUUUUAFFFFABRRRQAUUUUAFFFFABRRRQAUUUUAFFFFABRRRQAUUUUAFFFFABRRRQAUUUUAFFFFABRRRQAUUUUAFFFFABRRRQAUUUUAFFFFABRRRQAUUUUAFFFFAH//2Q==)"
      ],
      "metadata": {
        "id": "QyEP9fi314MU"
      }
    },
    {
      "cell_type": "code",
      "source": [
        "#Criando Tabela 01\n",
        "\n",
        "#ID do vendedor e Valor de vendas\n",
        "tab_01 = cursor.execute(\n",
        "    'CREATE TABLE Tab_Vendas (id real, valor real)'\n",
        ")\n",
        "\n",
        "conexao.commit()"
      ],
      "metadata": {
        "id": "A5EU_bT83wli"
      },
      "execution_count": 240,
      "outputs": []
    },
    {
      "cell_type": "code",
      "source": [
        "#Criando Tabela 02\n",
        "\n",
        "#Dados cadastrais\n",
        "tab_02 = cursor.execute(\n",
        "    'CREATE TABLE Tab_Cadastro_Vendedor (id real, Nome text)'\n",
        ")\n",
        "\n",
        "conexao.commit()"
      ],
      "metadata": {
        "id": "YZUOjtfN7DVN"
      },
      "execution_count": 241,
      "outputs": []
    },
    {
      "cell_type": "code",
      "source": [
        "#Inserindo valores na tabela de vendas (id_vendedor, valor de vendas)\n",
        "\n",
        "#Vendedor 01\n",
        "cursor.execute('INSERT INTO Tab_Vendas VALUES (1,100)')\n",
        "cursor.execute('INSERT INTO Tab_Vendas VALUES (1,200)')\n",
        "cursor.execute('INSERT INTO Tab_Vendas VALUES (1,150)')\n",
        "\n",
        "#Vendedor 02\n",
        "cursor.execute('INSERT INTO Tab_Vendas VALUES (2,50)')\n",
        "cursor.execute('INSERT INTO Tab_Vendas VALUES (2,200)')\n",
        "cursor.execute('INSERT INTO Tab_Vendas VALUES (2,900)')\n",
        "\n",
        "#Vendedor 03\n",
        "cursor.execute('INSERT INTO Tab_Vendas VALUES (3,900)')"
      ],
      "metadata": {
        "colab": {
          "base_uri": "https://localhost:8080/"
        },
        "id": "k8WmX_iO7rof",
        "outputId": "2b14f443-fd45-43ba-86c3-0c7e59607e9f"
      },
      "execution_count": 242,
      "outputs": [
        {
          "output_type": "execute_result",
          "data": {
            "text/plain": [
              "<sqlite3.Cursor at 0x7f0b7099ea40>"
            ]
          },
          "metadata": {},
          "execution_count": 242
        }
      ]
    },
    {
      "cell_type": "code",
      "source": [
        "#Inserindo valores na tabela de cadastro (id_vendedor, Nome)\n",
        "\n",
        "cursor.execute('INSERT INTO Tab_Cadastro_Vendedor VALUES (1,\"André\")')\n",
        "cursor.execute('INSERT INTO Tab_Cadastro_Vendedor VALUES (2,\"Rosana\")')"
      ],
      "metadata": {
        "colab": {
          "base_uri": "https://localhost:8080/"
        },
        "id": "R2Tv3R1u8jSf",
        "outputId": "9e9b9569-b727-4dd9-a5ec-83471d17ea77"
      },
      "execution_count": 243,
      "outputs": [
        {
          "output_type": "execute_result",
          "data": {
            "text/plain": [
              "<sqlite3.Cursor at 0x7f0b7099ea40>"
            ]
          },
          "metadata": {},
          "execution_count": 243
        }
      ]
    },
    {
      "cell_type": "code",
      "source": [
        "#Consultar a tabela\n",
        "\n",
        "consulta = cursor.execute(\n",
        "    'SELECT*FROM Tab_Vendas'\n",
        ").fetchall()\n",
        "\n",
        "for linha in consulta:\n",
        "  print(linha)"
      ],
      "metadata": {
        "colab": {
          "base_uri": "https://localhost:8080/"
        },
        "id": "1-kAgOOh9Wv2",
        "outputId": "960dfdc5-c872-4368-abfe-39cdcd8e8598"
      },
      "execution_count": 244,
      "outputs": [
        {
          "output_type": "stream",
          "name": "stdout",
          "text": [
            "(1.0, 100.0)\n",
            "(1.0, 200.0)\n",
            "(1.0, 150.0)\n",
            "(2.0, 50.0)\n",
            "(2.0, 200.0)\n",
            "(2.0, 900.0)\n",
            "(3.0, 900.0)\n"
          ]
        }
      ]
    },
    {
      "cell_type": "code",
      "source": [
        "consulta = cursor.execute(\n",
        "    'SELECT*FROM Tab_Cadastro_Vendedor'\n",
        ").fetchall()\n",
        "\n",
        "for linha in consulta:\n",
        "  print(linha)"
      ],
      "metadata": {
        "colab": {
          "base_uri": "https://localhost:8080/"
        },
        "id": "i5wLIvtS9nft",
        "outputId": "d8a2b232-d89a-40fb-b869-722e2286f421"
      },
      "execution_count": 245,
      "outputs": [
        {
          "output_type": "stream",
          "name": "stdout",
          "text": [
            "(1.0, 'André')\n",
            "(2.0, 'Rosana')\n"
          ]
        }
      ]
    },
    {
      "cell_type": "markdown",
      "source": [
        "**Inner Join (Interseção)**"
      ],
      "metadata": {
        "id": "N6zDFkvU9_k-"
      }
    },
    {
      "cell_type": "code",
      "source": [
        "consulta = cursor.execute(\n",
        "    'SELECT*FROM Tab_Vendas INNER JOIN Tab_Cadastro_Vendedor ON Tab_Vendas.id = Tab_Cadastro_Vendedor.id'\n",
        ").fetchall()\n",
        "\n",
        "for linha in consulta:\n",
        "  print(linha)"
      ],
      "metadata": {
        "colab": {
          "base_uri": "https://localhost:8080/"
        },
        "id": "D8gO6CIJ-GcT",
        "outputId": "d7c7201a-0c53-4750-c6ba-97025c4e6f85"
      },
      "execution_count": 246,
      "outputs": [
        {
          "output_type": "stream",
          "name": "stdout",
          "text": [
            "(1.0, 100.0, 1.0, 'André')\n",
            "(1.0, 200.0, 1.0, 'André')\n",
            "(1.0, 150.0, 1.0, 'André')\n",
            "(2.0, 50.0, 2.0, 'Rosana')\n",
            "(2.0, 200.0, 2.0, 'Rosana')\n",
            "(2.0, 900.0, 2.0, 'Rosana')\n"
          ]
        }
      ]
    },
    {
      "cell_type": "markdown",
      "source": [
        "**Left Join**"
      ],
      "metadata": {
        "id": "ClFIuhXC_nha"
      }
    },
    {
      "cell_type": "code",
      "source": [
        "consulta = cursor.execute(\n",
        "    'SELECT*FROM Tab_Vendas LEFT JOIN Tab_Cadastro_Vendedor ON Tab_Vendas.id = Tab_Cadastro_Vendedor.id'\n",
        ").fetchall()\n",
        "\n",
        "for linha in consulta:\n",
        "  print(linha)"
      ],
      "metadata": {
        "colab": {
          "base_uri": "https://localhost:8080/"
        },
        "id": "K7abCMqBAjZP",
        "outputId": "548e037c-67c1-45fb-e629-b290b6ac76d2"
      },
      "execution_count": 247,
      "outputs": [
        {
          "output_type": "stream",
          "name": "stdout",
          "text": [
            "(1.0, 100.0, 1.0, 'André')\n",
            "(1.0, 200.0, 1.0, 'André')\n",
            "(1.0, 150.0, 1.0, 'André')\n",
            "(2.0, 50.0, 2.0, 'Rosana')\n",
            "(2.0, 200.0, 2.0, 'Rosana')\n",
            "(2.0, 900.0, 2.0, 'Rosana')\n",
            "(3.0, 900.0, None, None)\n"
          ]
        }
      ]
    },
    {
      "cell_type": "markdown",
      "source": [
        "# UNION (unir tabelas)"
      ],
      "metadata": {
        "id": "gO3SSEAcBhCD"
      }
    },
    {
      "cell_type": "code",
      "source": [
        "#Criando a tabela \n",
        "cursor.execute('CREATE TABLE Tabela_X (id real, Nome text)')\n",
        "conexao.commit()\n",
        "\n",
        "cursor.execute('CREATE TABLE Tabela_Y (id real, Nome text)')\n",
        "conexao.commit()"
      ],
      "metadata": {
        "id": "4AQVPpN5Blpz"
      },
      "execution_count": 248,
      "outputs": []
    },
    {
      "cell_type": "code",
      "source": [
        "#Inserir valores\n",
        "cursor.execute('INSERT INTO Tabela_X VALUES (1, \"André\")')\n",
        "cursor.execute('INSERT INTO Tabela_X VALUES (1, \"Rosana\")')\n",
        "cursor.execute('INSERT INTO Tabela_X VALUES (3, \"João\")')\n",
        "\n",
        "cursor.execute('INSERT INTO Tabela_Y VALUES (1, \"Maria\")')\n",
        "cursor.execute('INSERT INTO Tabela_Y VALUES (1, \"Ana\")')\n",
        "cursor.execute('INSERT INTO Tabela_Y VALUES (3, \"Joaquim\")')"
      ],
      "metadata": {
        "colab": {
          "base_uri": "https://localhost:8080/"
        },
        "id": "XJc-xG6lCQjz",
        "outputId": "4a1cd6d2-fc6b-49cc-c4c2-aa755fcbd69c"
      },
      "execution_count": 249,
      "outputs": [
        {
          "output_type": "execute_result",
          "data": {
            "text/plain": [
              "<sqlite3.Cursor at 0x7f0b7099ea40>"
            ]
          },
          "metadata": {},
          "execution_count": 249
        }
      ]
    },
    {
      "cell_type": "code",
      "source": [
        "# Consultar tabela\n",
        "consulta1 = cursor.execute(\n",
        "    'SELECT*FROM Tabela_X'\n",
        ").fetchall()\n",
        "\n",
        "#for linha in consulta:\n",
        "print(consulta1)"
      ],
      "metadata": {
        "colab": {
          "base_uri": "https://localhost:8080/"
        },
        "id": "GCN4SLZgDBoY",
        "outputId": "64d859ee-f0d6-4c35-c0cf-b7fcf17c2df9"
      },
      "execution_count": 250,
      "outputs": [
        {
          "output_type": "stream",
          "name": "stdout",
          "text": [
            "[(1.0, 'André'), (1.0, 'Rosana'), (3.0, 'João')]\n"
          ]
        }
      ]
    },
    {
      "cell_type": "code",
      "source": [
        "consulta2 = cursor.execute(\n",
        "    'SELECT*FROM Tabela_Y'\n",
        ").fetchall()\n",
        "\n",
        "#for linha in consulta:\n",
        "print(consulta2)"
      ],
      "metadata": {
        "colab": {
          "base_uri": "https://localhost:8080/"
        },
        "id": "icG723IkDYa1",
        "outputId": "f94b2d37-ef02-4e96-91fb-a099af50d1d6"
      },
      "execution_count": 251,
      "outputs": [
        {
          "output_type": "stream",
          "name": "stdout",
          "text": [
            "[(1.0, 'Maria'), (1.0, 'Ana'), (3.0, 'Joaquim')]\n"
          ]
        }
      ]
    },
    {
      "cell_type": "code",
      "source": [
        "consulta_unida = cursor.execute(\n",
        "    'SELECT*FROM Tabela_X UNION ALL SELECT*FROM Tabela_Y'\n",
        ").fetchall()\n",
        "\n",
        "for linha in consulta_unida:\n",
        "  print(linha)"
      ],
      "metadata": {
        "colab": {
          "base_uri": "https://localhost:8080/"
        },
        "id": "PcnkoOcqDztN",
        "outputId": "3402474e-8efa-4615-cd40-a474a231a262"
      },
      "execution_count": 252,
      "outputs": [
        {
          "output_type": "stream",
          "name": "stdout",
          "text": [
            "(1.0, 'André')\n",
            "(1.0, 'Rosana')\n",
            "(3.0, 'João')\n",
            "(1.0, 'Maria')\n",
            "(1.0, 'Ana')\n",
            "(3.0, 'Joaquim')\n"
          ]
        }
      ]
    },
    {
      "cell_type": "markdown",
      "source": [
        "# Group BY\n",
        "\n",
        "* Agrupa linhas que tem os mesmos valores em linhas de resumo."
      ],
      "metadata": {
        "id": "OtgYseTlFMms"
      }
    },
    {
      "cell_type": "code",
      "source": [
        "consulta_unida = cursor.execute(\n",
        "    'SELECT*FROM Minha_Tabela'\n",
        ").fetchall()\n",
        "\n",
        "for linha in consulta_unida:\n",
        "  print(linha)"
      ],
      "metadata": {
        "colab": {
          "base_uri": "https://localhost:8080/"
        },
        "id": "IVr_YofCFcp7",
        "outputId": "1a7ee577-a96c-4288-a38d-e7cd98046532"
      },
      "execution_count": 253,
      "outputs": [
        {
          "output_type": "stream",
          "name": "stdout",
          "text": [
            "('05/01/2022', 'Rosana', 37.0)\n",
            "('06/01/2022', 'Ana', 10.0)\n",
            "('06/01/2022', 'Antônia', 16.0)\n",
            "('08/01/2022', 'Ana', 42.0)\n",
            "('06/01/2022', 'Ana', 25.0)\n",
            "('10/06/2022', 'Renata', 35.0)\n",
            "('07/06/2022', 'Gilton', 50.0)\n"
          ]
        }
      ]
    },
    {
      "cell_type": "code",
      "source": [
        "consulta_agrupada = cursor.execute(\n",
        "    'SELECT SUM (Idade) FROM Minha_Tabela GROUP BY Nome'\n",
        ").fetchall()\n",
        "\n",
        "for linha in consulta_agrupada:\n",
        "  print(linha)"
      ],
      "metadata": {
        "colab": {
          "base_uri": "https://localhost:8080/"
        },
        "id": "jsFXHA_OK2hE",
        "outputId": "2661a0bc-14f0-4e46-f71d-b6ed4afa8d00"
      },
      "execution_count": 254,
      "outputs": [
        {
          "output_type": "stream",
          "name": "stdout",
          "text": [
            "(77.0,)\n",
            "(16.0,)\n",
            "(50.0,)\n",
            "(35.0,)\n",
            "(37.0,)\n"
          ]
        }
      ]
    },
    {
      "cell_type": "code",
      "source": [
        "consulta_agrupada = cursor.execute(\n",
        "    'SELECT COUNT (Idade) FROM Minha_Tabela GROUP BY Nome'\n",
        ").fetchall()\n",
        "\n",
        "for linha in consulta_agrupada:\n",
        "  print(linha)"
      ],
      "metadata": {
        "colab": {
          "base_uri": "https://localhost:8080/"
        },
        "id": "Iz-W_vRdNDWz",
        "outputId": "5babb8a0-5110-43ef-f37a-538bf06aaef6"
      },
      "execution_count": 255,
      "outputs": [
        {
          "output_type": "stream",
          "name": "stdout",
          "text": [
            "(3,)\n",
            "(1,)\n",
            "(1,)\n",
            "(1,)\n",
            "(1,)\n"
          ]
        }
      ]
    },
    {
      "cell_type": "code",
      "source": [
        "consulta_agrupada = cursor.execute(\n",
        "    'SELECT MAX (Idade) FROM Minha_Tabela GROUP BY Nome'\n",
        ").fetchall()\n",
        "\n",
        "for linha in consulta_agrupada:\n",
        "  print(linha)"
      ],
      "metadata": {
        "colab": {
          "base_uri": "https://localhost:8080/"
        },
        "id": "klAZopUkNGHd",
        "outputId": "5b55c5f7-47dc-4feb-9bb0-ca00a7276d63"
      },
      "execution_count": 256,
      "outputs": [
        {
          "output_type": "stream",
          "name": "stdout",
          "text": [
            "(42.0,)\n",
            "(16.0,)\n",
            "(50.0,)\n",
            "(35.0,)\n",
            "(37.0,)\n"
          ]
        }
      ]
    },
    {
      "cell_type": "code",
      "source": [
        "consulta_agrupada = cursor.execute(\n",
        "    'SELECT AVG (Idade) FROM Minha_Tabela WHERE Nome = \"Ana\" GROUP BY Nome'\n",
        ").fetchall()\n",
        "\n",
        "for linha in consulta_agrupada:\n",
        "  print(linha)"
      ],
      "metadata": {
        "colab": {
          "base_uri": "https://localhost:8080/"
        },
        "id": "Rb3nhMaeNM7j",
        "outputId": "2026ec39-9e05-4215-ed9b-bdd359fceba6"
      },
      "execution_count": 257,
      "outputs": [
        {
          "output_type": "stream",
          "name": "stdout",
          "text": [
            "(25.666666666666668,)\n"
          ]
        }
      ]
    }
  ]
}