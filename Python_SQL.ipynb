{
  "nbformat": 4,
  "nbformat_minor": 0,
  "metadata": {
    "colab": {
      "name": "Python SQL.ipynb",
      "provenance": [],
      "authorship_tag": "ABX9TyNfgajWejIu9OToewiLu6ZU",
      "include_colab_link": true
    },
    "kernelspec": {
      "name": "python3",
      "display_name": "Python 3"
    },
    "language_info": {
      "name": "python"
    }
  },
  "cells": [
    {
      "cell_type": "markdown",
      "metadata": {
        "id": "view-in-github",
        "colab_type": "text"
      },
      "source": [
        "<a href=\"https://colab.research.google.com/github/andrejuniorba/SQL/blob/main/Python_SQL.ipynb\" target=\"_parent\"><img src=\"https://colab.research.google.com/assets/colab-badge.svg\" alt=\"Open In Colab\"/></a>"
      ]
    },
    {
      "cell_type": "markdown",
      "source": [
        "# **SQL com Python**\n"
      ],
      "metadata": {
        "id": "y2y9JRWC0yaM"
      }
    },
    {
      "cell_type": "code",
      "source": [
        "from google.colab import drive\n",
        "drive.mount('/content/drive')"
      ],
      "metadata": {
        "colab": {
          "base_uri": "https://localhost:8080/"
        },
        "id": "oL1QpKKz6b2z",
        "outputId": "e1c1e74a-711e-4904-9f4b-5f3af6b25941"
      },
      "execution_count": 1,
      "outputs": [
        {
          "output_type": "stream",
          "name": "stdout",
          "text": [
            "Mounted at /content/drive\n"
          ]
        }
      ]
    },
    {
      "cell_type": "markdown",
      "source": [
        "Import da biblioteca"
      ],
      "metadata": {
        "id": "0DCKhEkc7DJ_"
      }
    },
    {
      "cell_type": "code",
      "source": [
        "import sqlite3"
      ],
      "metadata": {
        "id": "dLMNzYBQ7RT4"
      },
      "execution_count": 1,
      "outputs": []
    },
    {
      "cell_type": "markdown",
      "source": [
        "# Criar um Banco de Dados"
      ],
      "metadata": {
        "id": "CvqWuVVDheQA"
      }
    },
    {
      "cell_type": "code",
      "source": [
        "#Criando\n",
        "conexao = sqlite3.connect('Banco_Dados')"
      ],
      "metadata": {
        "id": "7PAWWJbth4_o"
      },
      "execution_count": 3,
      "outputs": []
    },
    {
      "cell_type": "code",
      "source": [
        "#Apontando (toda vez que for fazer qualquer procedimento no BD vou chamar a variável criada)\n",
        "cursor = conexao.cursor()"
      ],
      "metadata": {
        "id": "7K8gXeikiIYX"
      },
      "execution_count": 4,
      "outputs": []
    },
    {
      "cell_type": "markdown",
      "source": [
        "# Criar uma tabela\n",
        "\n",
        "CREATE TABLE nome (coluna1 datatype, coluna2 datatype, ...)"
      ],
      "metadata": {
        "id": "jBm1qKDQifpS"
      }
    },
    {
      "cell_type": "code",
      "source": [
        "#Criando a tabela \n",
        "cursor.execute(\n",
        "    'CREATE TABLE Minha_Tabela (Data text, Nome text, Idade real)'\n",
        ")\n",
        "\n",
        "#Fazer um commit\n",
        "conexao.commit()"
      ],
      "metadata": {
        "id": "lw6ebHXtkvnr"
      },
      "execution_count": 5,
      "outputs": []
    },
    {
      "cell_type": "markdown",
      "source": [
        "# Inserir valor na tabela\n",
        "\n",
        "INSERT INTO nome VALUES (coluna1, coluna2, ...)"
      ],
      "metadata": {
        "id": "_QtCj33Nm4Rk"
      }
    },
    {
      "cell_type": "code",
      "source": [
        "#Inserindo valores\n",
        "cursor.execute(\n",
        "    'INSERT INTO Minha_Tabela VALUES (\"01/01/2022\", \"André\", \"40\")'\n",
        ")"
      ],
      "metadata": {
        "colab": {
          "base_uri": "https://localhost:8080/"
        },
        "id": "8inBwQjgp82k",
        "outputId": "677ff6da-44dd-4efd-bf10-b013866d554c"
      },
      "execution_count": 6,
      "outputs": [
        {
          "output_type": "execute_result",
          "data": {
            "text/plain": [
              "<sqlite3.Cursor at 0x7f9aadadaf80>"
            ]
          },
          "metadata": {},
          "execution_count": 6
        }
      ]
    },
    {
      "cell_type": "code",
      "source": [
        "#Inserindo mais um\n",
        "cursor.execute(\n",
        "    'INSERT INTO Minha_Tabela VALUES (\"05/01/2022\", \"Rosana\", \"37\")'\n",
        ")"
      ],
      "metadata": {
        "colab": {
          "base_uri": "https://localhost:8080/"
        },
        "id": "HUHZEtkOqr9q",
        "outputId": "e7485232-1fa7-42e5-eb9e-28800bdd30b6"
      },
      "execution_count": 7,
      "outputs": [
        {
          "output_type": "execute_result",
          "data": {
            "text/plain": [
              "<sqlite3.Cursor at 0x7f9aadadaf80>"
            ]
          },
          "metadata": {},
          "execution_count": 7
        }
      ]
    },
    {
      "cell_type": "code",
      "source": [
        "cursor.execute(\n",
        "    'INSERT INTO Minha_Tabela VALUES (\"06/01/2022\", \"Ana\", \"10\")'\n",
        ")"
      ],
      "metadata": {
        "colab": {
          "base_uri": "https://localhost:8080/"
        },
        "id": "hg_yTvTe7SIb",
        "outputId": "18bda507-f4cd-4c0a-c892-74c7c875fdcc"
      },
      "execution_count": 18,
      "outputs": [
        {
          "output_type": "execute_result",
          "data": {
            "text/plain": [
              "<sqlite3.Cursor at 0x7f9aadadaf80>"
            ]
          },
          "metadata": {},
          "execution_count": 18
        }
      ]
    },
    {
      "cell_type": "markdown",
      "source": [
        "# Selecionar Tabela\n",
        "\n",
        "SELECT*FROM nome \n",
        "\n",
        "SELECT coluna1, coluna2, ..., FROM nome"
      ],
      "metadata": {
        "id": "fA3gq1m0rCJN"
      }
    },
    {
      "cell_type": "code",
      "source": [
        "# Consultar tudo\n",
        "consulta = cursor.execute(\n",
        "    'SELECT*FROM Minha_Tabela'\n",
        ").fetchall()\n",
        "\n",
        "print(consulta)"
      ],
      "metadata": {
        "colab": {
          "base_uri": "https://localhost:8080/"
        },
        "id": "ZNA7o8CBsYhH",
        "outputId": "b5958385-fe26-4b0d-944f-5611f7ea1ded"
      },
      "execution_count": 19,
      "outputs": [
        {
          "output_type": "stream",
          "name": "stdout",
          "text": [
            "[('01/01/2022', 'André', 40.0), ('05/01/2022', 'Rosana', 37.0), ('06/01/2022', 'Ana', 10.0)]\n"
          ]
        }
      ]
    },
    {
      "cell_type": "code",
      "source": [
        "# Consulta específica\n",
        "consulta_especifica = cursor.execute(\n",
        "    'SELECT Nome, Idade FROM Minha_Tabela'\n",
        ").fetchall()\n",
        "\n",
        "print(consulta_especifica )"
      ],
      "metadata": {
        "colab": {
          "base_uri": "https://localhost:8080/"
        },
        "id": "4vqFNHmTwLj5",
        "outputId": "18f472d6-ccc4-4910-ebb2-048de229a7fb"
      },
      "execution_count": 20,
      "outputs": [
        {
          "output_type": "stream",
          "name": "stdout",
          "text": [
            "[('André', 40.0), ('Rosana', 37.0), ('Ana', 10.0)]\n"
          ]
        }
      ]
    },
    {
      "cell_type": "code",
      "source": [
        "for linha in consulta_especifica:\n",
        "  print(linha)"
      ],
      "metadata": {
        "colab": {
          "base_uri": "https://localhost:8080/"
        },
        "id": "6avrix2PwcSM",
        "outputId": "75257e10-4036-4aa3-afdf-068171605fc0"
      },
      "execution_count": 21,
      "outputs": [
        {
          "output_type": "stream",
          "name": "stdout",
          "text": [
            "('André', 40.0)\n",
            "('Rosana', 37.0)\n",
            "('Ana', 10.0)\n"
          ]
        }
      ]
    },
    {
      "cell_type": "markdown",
      "source": [
        "# Filtar registros\n",
        "\n",
        "SELECT coluna FROM nome WHERE condição\n",
        "\n",
        "* Igual =\n",
        "\n",
        "* Maior >\n",
        "\n",
        "* Menor <\n",
        "\n",
        "* Maior ou igual >=\n",
        "\n",
        "* Menor ou igual <=\n",
        "\n",
        "* Diferente <>\n",
        "\n",
        "* Entre BETWEEN\n",
        "\n",
        "* Procurar por padrão LIKE\n",
        "\n",
        "* Especificar vários valores possíveis para uma coluna IN"
      ],
      "metadata": {
        "id": "hHuCrmezwuKg"
      }
    },
    {
      "cell_type": "code",
      "source": [
        "filtro_igual = cursor.execute(\n",
        "    'SELECT*FROM Minha_Tabela WHERE Nome = \"Rosana\"'\n",
        ").fetchall()\n",
        "\n",
        "print(filtro_igual)"
      ],
      "metadata": {
        "colab": {
          "base_uri": "https://localhost:8080/"
        },
        "id": "NyzGuoHG1W4p",
        "outputId": "4da9e069-168c-4742-cccd-1b99337f0787"
      },
      "execution_count": 22,
      "outputs": [
        {
          "output_type": "stream",
          "name": "stdout",
          "text": [
            "[('05/01/2022', 'Rosana', 37.0)]\n"
          ]
        }
      ]
    },
    {
      "cell_type": "code",
      "source": [
        "filtro_maior = cursor.execute(\n",
        "    'SELECT*FROM Minha_Tabela WHERE Idade < 40'\n",
        ").fetchall()\n",
        "\n",
        "print(filtro_maior)"
      ],
      "metadata": {
        "colab": {
          "base_uri": "https://localhost:8080/"
        },
        "id": "W5mspcwr3BYj",
        "outputId": "0e7c59e2-ba96-426a-873a-d0ef4bf3c707"
      },
      "execution_count": 23,
      "outputs": [
        {
          "output_type": "stream",
          "name": "stdout",
          "text": [
            "[('05/01/2022', 'Rosana', 37.0), ('06/01/2022', 'Ana', 10.0)]\n"
          ]
        }
      ]
    },
    {
      "cell_type": "markdown",
      "source": [
        "**BETWEEN (entre)**"
      ],
      "metadata": {
        "id": "sPATlneA7Fuh"
      }
    },
    {
      "cell_type": "code",
      "source": [
        "filtro_entre = cursor.execute(\n",
        "    'SELECT*FROM Minha_Tabela WHERE Idade BETWEEN 15 AND 38'\n",
        ").fetchall()\n",
        "\n",
        "print(filtro_entre)"
      ],
      "metadata": {
        "colab": {
          "base_uri": "https://localhost:8080/"
        },
        "id": "bhGwMCD97p18",
        "outputId": "d2a020f0-199f-4ac2-8898-df200da3933a"
      },
      "execution_count": 26,
      "outputs": [
        {
          "output_type": "stream",
          "name": "stdout",
          "text": [
            "[('05/01/2022', 'Rosana', 37.0)]\n"
          ]
        }
      ]
    },
    {
      "cell_type": "markdown",
      "source": [
        "**LIKE (procurar padrão)**\n",
        "\n",
        "SELECT*FROM nome WHERE coluna LIKE 'instrução'\n",
        "\n",
        "* % representa zero, um ou vários caracteres\n",
        "\n",
        "* _ representa um único caractere"
      ],
      "metadata": {
        "id": "g00VHamC77pS"
      }
    },
    {
      "cell_type": "code",
      "source": [
        "filtro_like = cursor.execute(\n",
        "    'SELECT*FROM Minha_Tabela WHERE Nome LIKE \"%a\"'\n",
        ").fetchall()\n",
        "\n",
        "print(filtro_like)"
      ],
      "metadata": {
        "colab": {
          "base_uri": "https://localhost:8080/"
        },
        "id": "uPxkBdyp8TEu",
        "outputId": "480f6fec-b335-4d8b-f2d3-68298cd22284"
      },
      "execution_count": 28,
      "outputs": [
        {
          "output_type": "stream",
          "name": "stdout",
          "text": [
            "[('05/01/2022', 'Rosana', 37.0), ('06/01/2022', 'Ana', 10.0)]\n"
          ]
        }
      ]
    },
    {
      "cell_type": "code",
      "source": [
        "filtro_like1 = cursor.execute(\n",
        "    'SELECT*FROM Minha_Tabela WHERE Nome LIKE \"%é\"'\n",
        ").fetchall()\n",
        "\n",
        "print(filtro_like1)"
      ],
      "metadata": {
        "colab": {
          "base_uri": "https://localhost:8080/"
        },
        "id": "B-a5zoqB9dNG",
        "outputId": "fccdd2f9-304d-40a5-dc16-0b25ba78e1b8"
      },
      "execution_count": 37,
      "outputs": [
        {
          "output_type": "stream",
          "name": "stdout",
          "text": [
            "[('01/01/2022', 'André', 40.0)]\n"
          ]
        }
      ]
    },
    {
      "cell_type": "code",
      "source": [
        "filtro_like2 = cursor.execute(\n",
        "    'SELECT*FROM Minha_Tabela WHERE Nome LIKE \"r%\"'\n",
        ").fetchall()\n",
        "\n",
        "print(filtro_like2)"
      ],
      "metadata": {
        "colab": {
          "base_uri": "https://localhost:8080/"
        },
        "id": "a5qanuVD-Ocd",
        "outputId": "bbf98c39-f569-408f-9097-0c03c5f5cf33"
      },
      "execution_count": 33,
      "outputs": [
        {
          "output_type": "stream",
          "name": "stdout",
          "text": [
            "[('05/01/2022', 'Rosana', 37.0)]\n"
          ]
        }
      ]
    },
    {
      "cell_type": "markdown",
      "source": [
        "**IN (procurar algo muito específico)**\n",
        "\n",
        "SELECT*FROM nome WHERE coluna IN "
      ],
      "metadata": {
        "id": "qM_wzWMRAfct"
      }
    },
    {
      "cell_type": "code",
      "source": [
        "filtro_in = cursor.execute(\n",
        "    'SELECT*FROM Minha_Tabela WHERE Idade IN (10, 37)'\n",
        ").fetchall()\n",
        "\n",
        "print(filtro_in)"
      ],
      "metadata": {
        "colab": {
          "base_uri": "https://localhost:8080/"
        },
        "id": "6MkIE7n6Ay2Q",
        "outputId": "96d54377-9287-4fdc-9d01-b7b19bd5e448"
      },
      "execution_count": 40,
      "outputs": [
        {
          "output_type": "stream",
          "name": "stdout",
          "text": [
            "[('05/01/2022', 'Rosana', 37.0), ('06/01/2022', 'Ana', 10.0)]\n"
          ]
        }
      ]
    },
    {
      "cell_type": "code",
      "source": [
        "filtro_in2 = cursor.execute(\n",
        "    'SELECT*FROM Minha_Tabela WHERE Nome IN (\"Ana\")'\n",
        ").fetchall()\n",
        "\n",
        "print(filtro_in2)"
      ],
      "metadata": {
        "colab": {
          "base_uri": "https://localhost:8080/"
        },
        "id": "cFNJ8dq2BNKJ",
        "outputId": "7b3328f3-2086-4764-c3cf-aea8d3e935fc"
      },
      "execution_count": 41,
      "outputs": [
        {
          "output_type": "stream",
          "name": "stdout",
          "text": [
            "[('06/01/2022', 'Ana', 10.0)]\n"
          ]
        }
      ]
    },
    {
      "cell_type": "markdown",
      "source": [
        "# AND, OR, NOT\n",
        "\n",
        "* AND as duas condições são verdadeiras\n",
        "\n",
        "* OR uma ou outra condição é verdadeira\n",
        "\n",
        "* NOT condição não é verdadeira"
      ],
      "metadata": {
        "id": "GgKKD7ouBrTx"
      }
    },
    {
      "cell_type": "code",
      "source": [
        "filtro_and = cursor.execute(\n",
        "    'SELECT*FROM Minha_Tabela WHERE Idade = 15 AND Nome = \"Ana\"'\n",
        ").fetchall()\n",
        "\n",
        "print(filtro_and )"
      ],
      "metadata": {
        "colab": {
          "base_uri": "https://localhost:8080/"
        },
        "id": "y-T3u-6qCTMH",
        "outputId": "27172089-1874-4aa4-a056-4ed83c0589cf"
      },
      "execution_count": 45,
      "outputs": [
        {
          "output_type": "stream",
          "name": "stdout",
          "text": [
            "[]\n"
          ]
        }
      ]
    },
    {
      "cell_type": "code",
      "source": [
        "filtro_or = cursor.execute(\n",
        "    'SELECT*FROM Minha_Tabela WHERE Idade = 15 OR Nome = \"Rosana\"'\n",
        ").fetchall()\n",
        "\n",
        "print(filtro_or)"
      ],
      "metadata": {
        "colab": {
          "base_uri": "https://localhost:8080/"
        },
        "id": "bG6zbFExCvvz",
        "outputId": "d8f19a26-ba5e-426d-906e-730d5ba7702d"
      },
      "execution_count": 44,
      "outputs": [
        {
          "output_type": "stream",
          "name": "stdout",
          "text": [
            "[('05/01/2022', 'Rosana', 37.0)]\n"
          ]
        }
      ]
    },
    {
      "cell_type": "code",
      "source": [
        "filtro_not = cursor.execute(\n",
        "    'SELECT*FROM Minha_Tabela WHERE NOT Idade = 10'\n",
        ").fetchall()\n",
        "\n",
        "print(filtro_not)"
      ],
      "metadata": {
        "colab": {
          "base_uri": "https://localhost:8080/"
        },
        "id": "81Y-EWryC87j",
        "outputId": "9284587b-1d1c-4ba3-d3a7-3729d6478764"
      },
      "execution_count": 46,
      "outputs": [
        {
          "output_type": "stream",
          "name": "stdout",
          "text": [
            "[('01/01/2022', 'André', 40.0), ('05/01/2022', 'Rosana', 37.0)]\n"
          ]
        }
      ]
    }
  ]
}